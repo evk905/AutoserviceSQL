{
  "nbformat": 4,
  "nbformat_minor": 0,
  "metadata": {
    "colab": {
      "provenance": [],
      "toc_visible": true,
      "authorship_tag": "ABX9TyNo1XjC9MilaZBYZ3rt0dmm",
      "include_colab_link": true
    },
    "kernelspec": {
      "name": "python3",
      "display_name": "Python 3"
    },
    "language_info": {
      "name": "python"
    }
  },
  "cells": [
    {
      "cell_type": "markdown",
      "metadata": {
        "id": "view-in-github",
        "colab_type": "text"
      },
      "source": [
        "<a href=\"https://colab.research.google.com/github/evk905/AutoserviceSQL/blob/main/%D0%97%D0%B0%D0%B4%D0%B0%D1%87%D0%B8_%D0%9F%D0%BE%D0%BA%D0%BE%D0%BB%D0%B5%D0%BD%D0%B8%D0%B5_Python_1_%D1%87.ipynb\" target=\"_parent\"><img src=\"https://colab.research.google.com/assets/colab-badge.svg\" alt=\"Open In Colab\"/></a>"
      ]
    },
    {
      "cell_type": "markdown",
      "source": [
        "# **Номер купе**"
      ],
      "metadata": {
        "id": "VMQs94bAxKGt"
      }
    },
    {
      "cell_type": "markdown",
      "source": [
        "В купейном вагоне имеется 99 купе с четырьмя местами для пассажиров в каждом. Напишите программу, которая определяет номер купе, в котором находится место с заданным номером (нумерация мест сквозная, начинается с 11).\n",
        "\n"
      ],
      "metadata": {
        "id": "ms3wMHpPxOHE"
      }
    },
    {
      "cell_type": "code",
      "source": [
        "def find_coupe_number(seat_number):\n",
        "    coupe_number = (seat_number - 1) // 4 + 1\n",
        "    return coupe_number\n",
        "\n",
        "seat_number = int(input(\"Введите номер места: \"))\n",
        "coupe_number = find_coupe_number(seat_number)\n",
        "if coupe_number > 9:\n",
        "    print(\"Ошибка: такого места не существует в вагоне.\")\n",
        "else:\n",
        "    print(f\"Место номер {seat_number} находится в купе номер {coupe_number}.\")"
      ],
      "metadata": {
        "id": "HtIyHN-Xx9qB"
      },
      "execution_count": null,
      "outputs": []
    },
    {
      "cell_type": "markdown",
      "source": [
        "Просто введите номер места (начиная с 1), и программа выведет номер купе, в котором находится это место. Помните, что если вагон содержит только 9 купе, то есть всего 36 мест, и если вы введете номер места больше 36, программа выведет сообщение об ошибке. Если у вас возникнут другие вопросы или понадобится дополнительная помощь, не стесняйтесь обращаться ко мне."
      ],
      "metadata": {
        "id": "1A2qlDCUyLYZ"
      }
    },
    {
      "cell_type": "markdown",
      "source": [
        "# **Сама неотвратимость**"
      ],
      "metadata": {
        "id": "dqpYw9574rEy"
      }
    },
    {
      "cell_type": "markdown",
      "source": [
        "Безумный титан Танос собрал все 6 камней бесконечности и намеревается уничтожить половину населения Вселенной по щелчку пальцев. При этом если население Вселенной является нечетным числом, то титан проявит милосердие и округлит количество выживших в большую сторону. Помогите Мстителям подсчитать количество выживших.\n",
        "\n",
        "Формат входных данных\n",
        "На вход дается число целое nn – население Вселенной.\n",
        "\n",
        "Формат выходных данных\n",
        "Программа должна вывести одно число – количество выживших."
      ],
      "metadata": {
        "id": "xYglnbYz4uR2"
      }
    },
    {
      "cell_type": "code",
      "source": [
        "n= int(input())\n",
        "print(n//2+ n%2)"
      ],
      "metadata": {
        "id": "z7VHW7-cDkoh"
      },
      "execution_count": null,
      "outputs": []
    },
    {
      "cell_type": "markdown",
      "source": [
        "# **Трехзначное число**"
      ],
      "metadata": {
        "id": "cMw6slXhahAD"
      }
    },
    {
      "cell_type": "markdown",
      "source": [
        "Напишите программу, в которой рассчитывается сумма и произведение цифр положительного трехзначного числа."
      ],
      "metadata": {
        "id": "29lW7CaRDp3A"
      }
    },
    {
      "cell_type": "code",
      "source": [
        "number = int(input())\n",
        "summa = [int(n) for n in str(number)]\n",
        "product = 1\n",
        "for digit in summa:\n",
        "    product *= digit\n",
        "\n",
        "print(f\"Сумма цифр = {sum(summa)}\")\n",
        "print(f\"Произведение цифр = {product}\")"
      ],
      "metadata": {
        "id": "arPZdCu0ae7C"
      },
      "execution_count": null,
      "outputs": []
    },
    {
      "cell_type": "markdown",
      "source": [
        "# **Перестановка цифр (все цифры различны)**"
      ],
      "metadata": {
        "id": "eDexP-PvnTfR"
      }
    },
    {
      "cell_type": "markdown",
      "source": [
        "Дано число, в котором все цифры различны. Напишите программу, которая выводит чисела, образованных при перестановке цифр заданного числа."
      ],
      "metadata": {
        "id": "ZiNDRvYJnWJh"
      }
    },
    {
      "cell_type": "code",
      "source": [
        "import itertools\n",
        "\n",
        "def check_unique_digits(number):\n",
        "  ''' Функция проверяет, что все цифры в вводимом числе различны '''\n",
        "  num_str = str(number)\n",
        "  return len(set(num_str)) == len(num_str)\n",
        "\n",
        "number = int(input(\"Введите число с уникальными цифрами: \"))\n",
        "while not check_unique_digits(number):\n",
        "    print(\"Ошибка: не все цифры в числе различны.\")\n",
        "    number = int(input(\"Введите число с уникальными цифрами: \"))\n",
        "\n",
        "chimlas = (int(n) for n in str(number))\n",
        "\n",
        "# Генерация всех комбинаций чисел из кортежа\n",
        "combinations = list(itertools.permutations(chimlas))\n",
        "print(combinations)\n",
        "\n",
        "# Вывод всех комбинаций\n",
        "print(\"Все комбинации чисел из заданного кортежа:\")\n",
        "for i in combinations:\n",
        "    combination = int(''.join(map(str, i)))\n",
        "    print(combination)"
      ],
      "metadata": {
        "id": "U9GqQf0BnahY"
      },
      "execution_count": null,
      "outputs": []
    },
    {
      "cell_type": "markdown",
      "source": [
        "# **Четырёхзначное число**"
      ],
      "metadata": {
        "id": "iYHEmXZQxHkq"
      }
    },
    {
      "cell_type": "markdown",
      "source": [
        "Напишите программу для нахождения цифр четырёхзначного числа.\n",
        "\n",
        "Формат входных данных\n",
        "На вход программе подаётся положительное четырёхзначное целое число.\n",
        "\n",
        "Формат выходных данных\n",
        "Программа должна вывести текст в соответствии с условием задачи.\n",
        "Тестовые данные 🟢\n",
        "\n",
        "Sample Input 1:\n",
        "\n",
        "3281\n",
        "\n",
        "Sample Output 1:\n",
        "\n",
        "Цифра в позиции тысяч равна 3\n",
        "Цифра в позиции сотен равна 2\n",
        "Цифра в позиции десятков равна 8\n",
        "Цифра в позиции единиц равна 1\n",
        "\n"
      ],
      "metadata": {
        "id": "tGjhgZ56xMDP"
      }
    },
    {
      "cell_type": "code",
      "source": [
        "# Ввод четырёхзначного числа\n",
        "num = int(input())\n",
        "\n",
        "# Нахождение цифр и их позиций\n",
        "thousands = num // 1000\n",
        "hundreds = (num % 1000) // 100\n",
        "tens = (num % 100) // 10\n",
        "units = num % 10\n",
        "\n",
        "# Вывод результатов\n",
        "print(f\"Цифра в позиции тысяч равна {thousands}\")\n",
        "print(f\"Цифра в позиции сотен равна {hundreds}\")\n",
        "print(f\"Цифра в позиции десятков равна {tens}\")\n",
        "print(f\"Цифра в позиции единиц равна {units}\")"
      ],
      "metadata": {
        "id": "ZY6owHQfxPYw"
      },
      "execution_count": null,
      "outputs": []
    },
    {
      "cell_type": "markdown",
      "source": [
        "# **Размножение n-ок**"
      ],
      "metadata": {
        "id": "eV9ieEDuy6ha"
      }
    },
    {
      "cell_type": "markdown",
      "source": [
        "Напишите программу, которая считывает целое положительное число n, n∈[1; 9] и выводит значение числа n+nn+nnn.\n",
        "\n",
        "Формат входных данных\n",
        "На вход программе подаётся одно целое положительное число n, n∈[1; 9].\n",
        "\n",
        "Формат выходных данных\n",
        "Программа должна вывести число n+nn‾+nnn‾n+nn+nnn.\n",
        "\n",
        "Примечание. Для первого теста 1+11+111=123.\n",
        "Тестовые данные 🟢\n",
        "\n",
        "Sample Input 1:\n",
        "\n",
        "1\n",
        "\n",
        "Sample Output 1:\n",
        "\n",
        "123\n",
        "\n",
        "Подсказка: n+nn+nnn=n+10n+n+100n+10n+n=123n"
      ],
      "metadata": {
        "id": "oxdxD25Yy9dD"
      }
    },
    {
      "cell_type": "code",
      "source": [
        "n = int(input())\n",
        "print(n * 123)"
      ],
      "metadata": {
        "id": "fY0c49uOzehP"
      },
      "execution_count": null,
      "outputs": []
    },
    {
      "cell_type": "markdown",
      "source": [
        "# **Арифметическая прогрессия**"
      ],
      "metadata": {
        "id": "Hcwd9QRbBDHk"
      }
    },
    {
      "cell_type": "markdown",
      "source": [
        "Напишите программу, которая определяет, являются ли три заданных числа (в указанном порядке) последовательными членами арифметической прогрессии.\n",
        "\n",
        "Формат входных данных\n",
        "На вход программе подаются три числа, каждое на отдельной строке.\n",
        "\n",
        "Формат выходных данных\n",
        "Программа должна вывести «YES» или «NO» (без кавычек) в соответствии с условием задачи.\n",
        "Последовательность a_1, a_2, a_3 ... есть арифметическая прогрессия если для любого её элемента выполняется условие\n",
        "![изображение.png](data:image/png;base64,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)"
      ],
      "metadata": {
        "id": "sfaLZNsZBFXO"
      }
    },
    {
      "cell_type": "code",
      "source": [
        "a, b, c = int(input()), int(input()), int(input())\n",
        "print('YES' if b == (a + c) / 2 else 'NO')"
      ],
      "metadata": {
        "id": "PysoUfcDB8LO"
      },
      "execution_count": null,
      "outputs": []
    },
    {
      "cell_type": "markdown",
      "source": [
        "# **Только +**"
      ],
      "metadata": {
        "id": "Fjy2Je7BDfmU"
      }
    },
    {
      "cell_type": "markdown",
      "source": [
        "Напишите программу, которая считывает три числа и подсчитывает сумму только положительных чисел.\n",
        "\n",
        "Формат входных данных\n",
        "На вход программе подаются три целых числа.\n",
        "\n",
        "Формат выходных данных\n",
        "Программа должна вывести одно число – сумму положительных чисел.\n",
        "\n",
        "Примечание. Если положительных чисел нет, то следует вывести 00.\n",
        "\n",
        "Sample Input 1:\n",
        "\n",
        "4\n",
        "-22\n",
        "1\n",
        "\n",
        "Sample Output 1:\n",
        "\n",
        "5"
      ],
      "metadata": {
        "id": "urbUHefTDn5c"
      }
    },
    {
      "cell_type": "code",
      "source": [
        "a, b, c = int(input()), int(input()), int(input())\n",
        "print(max(0, a) + max(0, b) + max(0, c))"
      ],
      "metadata": {
        "id": "vPkCzt1JDrtO"
      },
      "execution_count": null,
      "outputs": []
    },
    {
      "cell_type": "markdown",
      "source": [
        "# **Високосный год**"
      ],
      "metadata": {
        "id": "56TRNpckHm98"
      }
    },
    {
      "cell_type": "markdown",
      "source": [
        "Напишите программу, которая определяет, является ли год с данным номером високосным. Если год является високосным, то выведите «YES», иначе выведите «NO».\n",
        "\n",
        "Год является високосным, если его номер кратен 44, но не кратен 100100, или если он кратен 400400.\n",
        "\n",
        "Формат входных данных\n",
        "На вход программе подаётся натуральное число.\n",
        "\n",
        "Формат выходных данных\n",
        "Программа должна вывести текст в соответствии с условием задачи."
      ],
      "metadata": {
        "id": "QS3iqMRQHpsb"
      }
    },
    {
      "cell_type": "code",
      "source": [
        "import calendar\n",
        "print(\"YES\" if calendar.isleap(int(input())) else \"NO\")"
      ],
      "metadata": {
        "id": "tCe-1utq4LQ5"
      },
      "execution_count": null,
      "outputs": []
    },
    {
      "cell_type": "markdown",
      "source": [
        "# **Самописный калькулятор**"
      ],
      "metadata": {
        "id": "kWRHwKj1B24R"
      }
    },
    {
      "cell_type": "markdown",
      "source": [
        "Напишите программу, которая считывает с клавиатуры два целых числа и строку. Если эта строка является обозначением одной из четырёх математических операций (+, -, *, /), то выведите результат применения этой операции к введённым ранее числам, в противном случае выведите «Неверная операция» (без кавычек). Если пользователь захочет поделить на ноль, выведите текст «На ноль делить нельзя!» (без кавычек).\n",
        "\n",
        "Формат входных данных\n",
        "На вход программе подаются два целых числа и строка, всё на отдельной строке.\n",
        "\n",
        "Формат выходных данных\n",
        "Программа должна вывести результат применения операции к введенным числам или соответствующий текст, если операция неверная либо если происходит деление на ноль."
      ],
      "metadata": {
        "id": "1nuku7k1B5iV"
      }
    },
    {
      "cell_type": "markdown",
      "source": [
        "Вариант решения 1\n",
        "использовать словарь с мат.функциями"
      ],
      "metadata": {
        "id": "Ma8nfHuvB8XC"
      }
    },
    {
      "cell_type": "code",
      "source": [
        "from operator import add, sub, mul, truediv\n",
        "\n",
        "x, y, op = int(input()), int(input()), input()\n",
        "acts = {\"+\": add, \"-\": sub, \"*\": mul, \"/\": truediv}\n",
        "try:\n",
        "    print(acts[op](x, y))\n",
        "except ZeroDivisionError:\n",
        "    print('На ноль делить нельзя!')\n",
        "except KeyError:\n",
        "    print('Неверная операция')"
      ],
      "metadata": {
        "id": "sEtKyrQxCHBZ"
      },
      "execution_count": null,
      "outputs": []
    },
    {
      "cell_type": "code",
      "source": [
        "acts = {\"+\": (lambda x,y: x+y), \"-\": (lambda x,y: x-y), \"*\": (lambda x,y: x*y), \"/\": (lambda x,y: x/y)}"
      ],
      "metadata": {
        "id": "ZmDYb4eR4nC4"
      },
      "execution_count": null,
      "outputs": []
    },
    {
      "cell_type": "code",
      "source": [
        "x, y, op = int(input()), int(input()), input()\n",
        "acts = {\"+\": (lambda x,y: x+y), \"-\": (lambda x,y: x-y), \"*\": (lambda x,y: x*y), \"/\": (lambda x,y: x/y)}\n",
        "try:\n",
        "    print(acts[op](x, y))\n",
        "except ZeroDivisionError:\n",
        "    print('На ноль делить нельзя!')\n",
        "except KeyError:\n",
        "    print('Неверная операция')"
      ],
      "metadata": {
        "id": "mmLu4BdOC5wO"
      },
      "execution_count": null,
      "outputs": []
    },
    {
      "cell_type": "markdown",
      "source": [
        "Вариант 3 с магическими методами"
      ],
      "metadata": {
        "id": "o-At9ITdDUgf"
      }
    },
    {
      "cell_type": "code",
      "source": [
        "num1, num2, operator = (input() for _ in '...')\n",
        "dct = {'+': int.__add__, '-': int.__sub__, '*': int.__mul__, '/': int.__truediv__}\n",
        "try:\n",
        "    print(dct[operator](int(num1), int(num2)))\n",
        "except ZeroDivisionError:\n",
        "    print('На ноль делить нельзя!')\n",
        "except KeyError:\n",
        "    print('Неверная операция')"
      ],
      "metadata": {
        "id": "mJ7whTXzDYlX"
      },
      "execution_count": null,
      "outputs": []
    },
    {
      "cell_type": "markdown",
      "source": [
        "# **Цветовой микшер**"
      ],
      "metadata": {
        "id": "WdsIiaRiGjNl"
      }
    },
    {
      "cell_type": "markdown",
      "source": [
        "Красный, синий и желтый называются основными цветами, потому что их нельзя получить путем смешения других цветов. При смешивании двух основных цветов получается вторичный цвет:\n",
        "\n",
        "    если смешать красный и синий, то получится фиолетовый;\n",
        "    если смешать красный и желтый, то получится оранжевый;\n",
        "    если смешать синий и желтый, то получится зеленый.\n",
        "\n",
        "Напишите программу, которая считывает названия двух основных цветов для смешивания. Если пользователь вводит что-нибудь помимо названий «красный», «синий» или «желтый», то программа должна вывести сообщение об ошибке. В противном случае программа должна вывести название вторичного цвета, который получится в результате.\n",
        "\n",
        "Формат входных данных\n",
        "На вход программе подаются две строки, каждая на отдельной строке.\n",
        "\n",
        "Формат выходных данных\n",
        "Программа должна вывести полученный цвет смешения либо сообщение «ошибка цвета», если введён был не цвет.\n",
        "\n",
        "Примечание 1. Если смешать красный и красный, то получится красный и т.д."
      ],
      "metadata": {
        "id": "d_QKi7HjGmAI"
      }
    },
    {
      "cell_type": "code",
      "source": [
        "b = [input() for i in range(2)]\n",
        "b.sort()\n",
        "if b == ['красный', 'синий']:\n",
        "    print('фиолетовый')\n",
        "elif b == ['желтый','синий']:\n",
        "    print('зеленый')\n",
        "elif b == ['желтый', 'красный']:\n",
        "    print('оранжевый')\n",
        "else:\n",
        "    print('ошибка цвета')"
      ],
      "metadata": {
        "id": "LRs8VR1bGj1z"
      },
      "execution_count": null,
      "outputs": []
    },
    {
      "cell_type": "markdown",
      "source": [
        "# **Цвета колеса рулетки**"
      ],
      "metadata": {
        "id": "kf6hLB_cIdLo"
      }
    },
    {
      "cell_type": "markdown",
      "source": [
        "На колесе рулетки карманы пронумерованы от 0 до 36. Ниже приведены цвета карманов:\n",
        "\n",
        "    карман 0 зеленый;\n",
        "    для карманов с 1 по 10 карманы с нечетным номером имеют красный цвет, карманы с четным номером – черный;\n",
        "    для карманов с 11 по 18 карманы с нечетным номером имеют черный цвет, карманы с четным номером – красный;\n",
        "    для карманов с 19 по 28 карманы с нечетным номером имеют красный цвет, карманы с четным номером – черный;\n",
        "    для карманов с 29 по 36 карманы с нечетным номером имеют черный цвет, карманы с четным номером – красный.\n",
        "\n",
        "Напишите программу, которая считывает номер кармана и показывает, является ли этот карман зеленым, красным или черным. Программа должна вывести сообщение об ошибке, если пользователь вводит число, которое лежит вне диапазона от 0 до 36.\n",
        "\n",
        "Формат входных данных\n",
        "На вход программе подаётся одно целое число.\n",
        "\n",
        "Формат выходных данных\n",
        "Программа должна вывести цвет кармана либо сообщение «ошибка ввода», если введённое число лежит вне диапазона от 0 до 36."
      ],
      "metadata": {
        "id": "uFss21ikIfwy"
      }
    },
    {
      "cell_type": "code",
      "source": [
        "a = int(input())\n",
        "if a == 0:\n",
        "    print(\"зеленый\")\n",
        "elif a < 0 or a > 36:\n",
        "    print(\"ошибка ввода\")\n",
        "elif (1 <= a <= 10 or 19 <= a <= 28) + (a % 2) == 1:\n",
        "    print(\"черный\")\n",
        "else:\n",
        "    print(\"красный\")"
      ],
      "metadata": {
        "id": "BMrrhEIyIq33"
      },
      "execution_count": null,
      "outputs": []
    },
    {
      "cell_type": "markdown",
      "source": [
        "a % 2 - это 1 или 0, true false.\n",
        "\n",
        "в последнем условии проверяется одновременно 2 условия: if ((1 <= x <= 10 or 19 <= x <= 28) and (x % 2 == 0)) or ((11 <= x <= 18 or 29 <= x <= 36) and (x % 2 != 0)): , но чтобы не писать это огромное условие, автор придумал интересную арифметику. Как вы уже должны знать из теории, False равняется числу 0, а True равняется числу 1.Отсюда и такая игра со сложением."
      ],
      "metadata": {
        "id": "xDjYqZRJKXvK"
      }
    },
    {
      "cell_type": "markdown",
      "source": [
        "# **Пересечение отрезков**"
      ],
      "metadata": {
        "id": "66X3xjBhSPq5"
      }
    },
    {
      "cell_type": "markdown",
      "source": [
        "На числовой прямой даны два отрезка: [a1; b1] и [a2​; b2​]. Напишите программу, которая находит их пересечение.\n",
        "\n",
        "Пересечением двух отрезков может быть:\n",
        "\n",
        "    отрезок:\n",
        "\n",
        "    точка:\n",
        "\n",
        "    пустое множество:\n",
        "\n",
        "Формат входных данных\n",
        "На вход программе подаются 4 целых числа a1, b1, a2, b2 каждое на отдельной строке. Гарантируется, что a1<b1 и a2<b2​.\n",
        "\n",
        "Формат выходных данных\n",
        "Программа должна вывести на экран границы отрезка, являющегося пересечением, либо общую точку, либо текст \"пустое множество\".\n",
        "Подсказка\n",
        "\n",
        "Не рассматривайте все случаи буквально. Если отрезок [a2​;b2​] левее (хотя бы своим левым концом) отрезка [a1​;b1​], то поменяйте отрезки местами. Дальше вы работаете только со случаями, где отрезок [a1​;b1​] гарантированно левее (хотя бы своим левым концом) отрезка [a2​;b2​]:\n",
        "![изображение.png](data:image/png;base64,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)\n",
        "\n"
      ],
      "metadata": {
        "id": "COCIzmQoSSO-"
      }
    },
    {
      "cell_type": "code",
      "source": [
        "a1, b1, a2, b2 = int(input()), int(input()), int(input()), int(input())\n",
        "if min(b1, b2) < max(a1, a2):\n",
        "    print('пустое множество')\n",
        "elif min(b1, b2) == max(a1, a2):\n",
        "    print(min(b1, b2))\n",
        "else:\n",
        "    print(max(a1, a2), min(b1, b2))"
      ],
      "metadata": {
        "id": "GCafjcG3T1ds"
      },
      "execution_count": null,
      "outputs": []
    },
    {
      "cell_type": "code",
      "source": [
        "a1, b1, a2, b2 = int(input()), int(input()), int(input()), int(input())\n",
        "\n",
        "if a2 < a1:\n",
        "    # теперь отрезок a1, b1 точно левее (по крайней мере своим левым концом) отрезка a2, b2\n",
        "    a1, b1, a2, b2 = a2, b2, a1, b1\n",
        "\n",
        "if a2 > b1:\n",
        "    print(\"пустое множество\")\n",
        "elif a2 == b1:\n",
        "    print(a2)\n",
        "else:\n",
        "    if b1 < b2:\n",
        "        print(a2, b1)\n",
        "    else:\n",
        "        print(a2, b2)"
      ],
      "metadata": {
        "id": "kUCqn66ZUNRF"
      },
      "execution_count": null,
      "outputs": []
    },
    {
      "cell_type": "code",
      "source": [
        "a,b,c,d = [int(input()) for _ in range(4)]\n",
        "n = sorted(set(range(a, b + 1)) & set(range(c, d + 1)))\n",
        "print(' '.join(map(str,set((n[0], n[-1])))) if n else 'пустое множество')"
      ],
      "metadata": {
        "id": "eWuq5h3aVJVl"
      },
      "execution_count": null,
      "outputs": []
    },
    {
      "cell_type": "code",
      "source": [
        "a1, b1, a2, b2 = (int(input()) for _ in range(4))\n",
        "lst = sorted(set(range(a1, b1 + 1)) & set(range(a2, b2 + 1)))\n",
        "if len(lst) != 0:\n",
        "    print(*set((lst[0], lst[-1])))\n",
        "else:\n",
        "    print('пустое множество')"
      ],
      "metadata": {
        "id": "jNcwngSVVd0c"
      },
      "execution_count": null,
      "outputs": []
    },
    {
      "cell_type": "markdown",
      "source": [
        "# **Шахматная доска**"
      ],
      "metadata": {
        "id": "F-JMRtq7XrcJ"
      }
    },
    {
      "cell_type": "markdown",
      "source": [
        "Заданы две клетки шахматной доски. Напишите программу, которая определяет, имеют ли указанные клетки один цвет или нет. Если они покрашены в один цвет, то выведите слово «YES», а если в разные цвета, то «NO».\n",
        "\n",
        "Формат входных данных\n",
        "На вход программе подаётся четыре числа от 1 до 8 каждое, задающие номер столбца и номер строки сначала для первой клетки, потом для второй клетки.\n",
        "\n",
        "Формат выходных данных\n",
        "Программа должна вывести текст в соответствии с условием задачи."
      ],
      "metadata": {
        "id": "C9OZUC1dXt2Z"
      }
    },
    {
      "cell_type": "code",
      "source": [
        "x1, y1, x2, y2 = int(input()), int(input()), int(input()), int(input())\n",
        "if (x1 + y1 + x2 + y2) % 2 == 0:\n",
        "    print('YES')\n",
        "else:\n",
        "    print('NO')"
      ],
      "metadata": {
        "id": "_IBCNqaFXxPn"
      },
      "execution_count": null,
      "outputs": []
    },
    {
      "cell_type": "markdown",
      "source": [
        "# **Ход слона**"
      ],
      "metadata": {
        "id": "ABf0ZwK9kSEW"
      }
    },
    {
      "cell_type": "markdown",
      "source": [
        "Даны две различные клетки шахматной доски. Напишите программу, которая определяет, может ли слон попасть с первой клетки на вторую одним ходом. Программа получает на вход четыре числа от 1 до 8 каждое, задающие номер столбца и номер строки сначала для первой клетки, потом для второй клетки. Программа должна вывести «YES», если из первой клетки ходом слона можно попасть во вторую или «NO» в противном случае.\n",
        "\n",
        "Формат входных данных\n",
        "На вход программе подаётся четыре числа от 1 до 8.\n",
        "\n",
        "Формат выходных данных\n",
        "Программа должна вывести текст в соответствии с условием задачи.\n",
        "\n",
        "Примечание. Шахматный слон ходит по диагоналям."
      ],
      "metadata": {
        "id": "XAZpgwe4kUbj"
      }
    },
    {
      "cell_type": "code",
      "source": [
        "x1, y1, x2, y2 =(int(input()) for _ in range(4))\n",
        "if abs(x1 - x2) == abs(y1 - y2):\n",
        "  print('YES')\n",
        "else:\n",
        "  print('NO')"
      ],
      "metadata": {
        "id": "rYpynnNYkXn5"
      },
      "execution_count": null,
      "outputs": []
    },
    {
      "cell_type": "markdown",
      "source": [
        "# **Ход коня**"
      ],
      "metadata": {
        "id": "0p01tb14kq19"
      }
    },
    {
      "cell_type": "markdown",
      "source": [
        "Даны две различные клетки шахматной доски. Напишите программу,  которая определяет, может ли конь попасть с первой клетки на вторую одним ходом. Программа получает на вход четыре числа от 1 до 8 каждое, задающие номер столбца и номер строки сначала для первой клетки, потом для второй клетки. Программа должна вывести «YES», если из первой клетки ходом коня можно попасть во вторую или «NO» в противном случае.\n",
        "\n",
        "Формат входных данных\n",
        "На вход программе подаётся четыре числа от 1 до 8.\n",
        "\n",
        "Формат выходных данных\n",
        "Программа должна вывести текст в соответствии с условием задачи.\n",
        "\n",
        "Примечание. Шахматный конь ходит буквой «Г»."
      ],
      "metadata": {
        "id": "2X_vN9e0ktgQ"
      }
    },
    {
      "cell_type": "code",
      "source": [
        "x1, y1, x2, y2 = int(input()), int(input()), int(input()), int(input())\n",
        "if (x1 - x2) ** 2 + (y1 - y2) ** 2 == 5:\n",
        "    print(\"YES\")\n",
        "else:\n",
        "    print(\"NO\")"
      ],
      "metadata": {
        "id": "IXUthVDakvzE"
      },
      "execution_count": null,
      "outputs": []
    },
    {
      "cell_type": "markdown",
      "source": [
        "# **Ход ферзя**"
      ],
      "metadata": {
        "id": "p11H7q0MlBXF"
      }
    },
    {
      "cell_type": "markdown",
      "source": [
        "Даны две различные клетки шахматной доски. Напишите программу,  которая определяет, может ли ферзь попасть с первой клетки на вторую одним ходом. Программа получает на вход четыре числа от 1 до 8 каждое, задающие номер столбца и номер строки сначала для первой клетки, потом для второй клетки. Программа должна вывести «YES», если из первой клетки ходом ферзя можно попасть во вторую или «NO» в противном случае.\n",
        "\n",
        "Формат входных данных\n",
        "На вход программе подаётся четыре числа от 1 до 8.\n",
        "\n",
        "Формат выходных данных\n",
        "Программа должна вывести текст в соответствии с условием задачи.\n",
        "\n",
        "Примечание. Шахматный ферзь ходит по диагонали, горизонтали или вертикали."
      ],
      "metadata": {
        "id": "OuYhHqVElDtu"
      }
    },
    {
      "cell_type": "code",
      "source": [
        "x1 = int(input())\n",
        "y1 = int(input())\n",
        "x2 = int(input())\n",
        "y2 = int(input())\n",
        "if abs(x1 - x2) == abs(y1 - y2) or x1 == x2 or y1 == y2:\n",
        "    print('YES')\n",
        "else:\n",
        "    print('NO')"
      ],
      "metadata": {
        "id": "ITRCcmAFlGLD"
      },
      "execution_count": null,
      "outputs": []
    },
    {
      "cell_type": "markdown",
      "source": [
        "# **Три города**"
      ],
      "metadata": {
        "id": "YWlBtNvDx-tQ"
      }
    },
    {
      "cell_type": "markdown",
      "source": [
        "Даны названия трех городов. Напишите программу, которая определяет самое короткое и самое длинное название города.\n",
        "\n",
        "Формат входных данных\n",
        "На вход программе подаётся названия трех городов, каждое на отдельной строке.\n",
        "\n",
        "Формат выходных данных\n",
        "Программа должна вывести самое короткое и длинное название города, каждое на отдельной строке."
      ],
      "metadata": {
        "id": "u7LNktGUx8h3"
      }
    },
    {
      "cell_type": "code",
      "source": [
        "# Считываем названия трех городов\n",
        "city1 = input(\"Введите название первого города: \")\n",
        "city2 = input(\"Введите название второго города: \")\n",
        "city3 = input(\"Введите название третьего города: \")\n",
        "\n",
        "# Находим самое короткое название города\n",
        "shortest_city = min(city1, city2, city3, key=len)\n",
        "\n",
        "# Находим самое длинное название города\n",
        "longest_city = max(city1, city2, city3, key=len)\n",
        "\n",
        "# Выводим результаты\n",
        "print(\"Самое короткое название города:\", shortest_city)\n",
        "print(\"Самое длинное название города:\", longest_city)\n"
      ],
      "metadata": {
        "id": "whOy04gbw_qa"
      },
      "execution_count": null,
      "outputs": []
    },
    {
      "cell_type": "markdown",
      "source": [
        "# **Евклидово расстояние**"
      ],
      "metadata": {
        "id": "qntKzwYwYDkl"
      }
    },
    {
      "cell_type": "markdown",
      "source": [
        "На плоскости евклидово расстояние между двумя точками (x1; y1) и (x2; y2)определяется так ρ=(x1​−x2​)2+(y1​−y2​)2\n",
        "\n",
        "Напишите программу определяющую евклидово расстояние между двумя точками, координаты которых заданы.\n",
        "\n",
        "Формат входных данных\n",
        "На вход программе подается четыре вещественных числа, каждое на отдельной строке – x1, y1, x2, y2​.\n",
        "\n",
        "Формат выходных данных\n",
        "Программа должна вывести одно число – евклидово расстояние."
      ],
      "metadata": {
        "id": "GLVD2nE8YG0s"
      }
    },
    {
      "cell_type": "code",
      "source": [
        "import math\n",
        "x1, x2, y1, y2 = float(input()), float(input()), float(input()), float(input())\n",
        "print(math.hypot(x1 - y1, x2 - y2))"
      ],
      "metadata": {
        "id": "5ehsMSAlYejL"
      },
      "execution_count": null,
      "outputs": []
    },
    {
      "cell_type": "code",
      "source": [
        "from math import pow, sqrt\n",
        "\n",
        "x1, y1, x2, y2 = float(input()), float(input()), float(input()), float(input())\n",
        "distance = sqrt(pow(x1 - x2, 2) + pow(y1 - y2, 2))\n",
        "\n",
        "print(distance)"
      ],
      "metadata": {
        "id": "wD-jmecHYvSb"
      },
      "execution_count": null,
      "outputs": []
    },
    {
      "cell_type": "code",
      "source": [
        "from math import dist\n",
        "\n",
        "a = [float(input()), float(input())]\n",
        "b = [float(input()), float(input())]\n",
        "print(dist(a, b))"
      ],
      "metadata": {
        "id": "L2T_chkXY2ia"
      },
      "execution_count": null,
      "outputs": []
    },
    {
      "cell_type": "markdown",
      "source": [
        "# **Звездный треугольник**"
      ],
      "metadata": {
        "id": "mFkwyQSEWLp2"
      }
    },
    {
      "cell_type": "markdown",
      "source": [
        "На вход программе подается натуральное число n (n≥2)n(n≥2) – катет прямоугольного равнобедренного треугольника.\n",
        "\n",
        "Напишите программу, которая выводит звездный треугольник в соответствии с примером.\n",
        "\n",
        "Формат входных данных\n",
        "На вход программе подается одно натуральное число n (n≥2)n(n≥2).\n",
        "\n",
        "Формат выходных данных\n",
        "Программа должна вывести треугольник в соответствии с условием задачи."
      ],
      "metadata": {
        "id": "iGaClFuiWOHJ"
      }
    },
    {
      "cell_type": "code",
      "source": [
        "n = int(input())\n",
        "if n >= 2:\n",
        "    for i in range(n):\n",
        "        print(\"*\" * (n-i))\n",
        "elif n < 2:\n",
        "    print(\"error :/\")"
      ],
      "metadata": {
        "colab": {
          "base_uri": "https://localhost:8080/"
        },
        "id": "tARtBSwqWTAK",
        "outputId": "ef10b969-3583-4906-b260-6ed3b89b02c6"
      },
      "execution_count": null,
      "outputs": [
        {
          "output_type": "stream",
          "name": "stdout",
          "text": [
            "1\n",
            "error :/\n"
          ]
        }
      ]
    },
    {
      "cell_type": "markdown",
      "source": [
        "# **Последовательность чисел**"
      ],
      "metadata": {
        "id": "ikeKnp8NSNdz"
      }
    },
    {
      "cell_type": "markdown",
      "source": [
        "Даны два целых числа mm и nn. Напишите программу, которая выводит все целые числа от m до n включительно в порядке возрастания, если m<n, или в порядке убывания в противном случае.\n",
        "\n",
        "Формат входных данных\n",
        "На вход программе подаются два целых числа m и n, каждое на отдельной строке."
      ],
      "metadata": {
        "id": "HLOEyc8-SQWy"
      }
    },
    {
      "cell_type": "code",
      "source": [
        "m, n = int(input()), int(input())\n",
        "if m < n:\n",
        "    for i in range(m,n+1):\n",
        "        print(i)\n",
        "else:\n",
        "    for i in range(m,n-1,-1):\n",
        "        print(i)"
      ],
      "metadata": {
        "id": "aAizp6C3SXrG"
      },
      "execution_count": null,
      "outputs": []
    },
    {
      "cell_type": "code",
      "source": [
        "m, n = int(input()), int(input())\n",
        "k = 1 - 2 * (m > n) # булево выражение\n",
        "for i in range(m, n + k, k):\n",
        "    print(i)\n"
      ],
      "metadata": {
        "id": "1HJpgWNdTLy2"
      },
      "execution_count": null,
      "outputs": []
    },
    {
      "cell_type": "code",
      "source": [
        "m, n = int(input()), int(input())\n",
        "sign = (n >= m) - (n < m)\n",
        "for i  in  range(m, n+sign, sign):\n",
        "    print(i)"
      ],
      "metadata": {
        "id": "EqA2pJtmGi2e"
      },
      "execution_count": null,
      "outputs": []
    },
    {
      "cell_type": "markdown",
      "source": [
        "Даны два целых числа mm и nn (m>nm>n). Напишите программу, которая выводит все нечетные целые числа от mm до nn включительно в порядке убывания.\n",
        "\n",
        "Формат входных данных\n",
        "На вход программе подаются два целых числа mm и nn, каждое на отдельной строке."
      ],
      "metadata": {
        "id": "5R7ddRksHwLW"
      }
    },
    {
      "cell_type": "code",
      "source": [
        "m, n = int(input()), int(input())\n",
        "start = ((m - 1) // 2) * 2 + 1  #if m % 2 == 0: m = m - 1\n",
        "for i in range(start, n - 1, -2):\n",
        "    print(i)"
      ],
      "metadata": {
        "id": "PG__1QJuHxgu"
      },
      "execution_count": null,
      "outputs": []
    },
    {
      "cell_type": "code",
      "source": [
        "m, n = int(input()), int(input())\n",
        "\n",
        "# наш старт должен быть нечетным число, меньшим либо равным m\n",
        "if m % 2 == 1:\n",
        "    start = m\n",
        "else:\n",
        "    start = m - 1\n",
        "\n",
        "# значение n должно быть включено в промежуток, поэтому уменьшаем end на единицу\n",
        "end = n - 1\n",
        "\n",
        "for i in range(start, end, -2):\n",
        "    print(i)"
      ],
      "metadata": {
        "id": "t8MR26O3KtC0"
      },
      "execution_count": null,
      "outputs": []
    },
    {
      "cell_type": "markdown",
      "source": [
        "Даны два натуральных числа m и n (m≤n). Напишите программу, которая выводит все целые числа от m до n (включительно), удовлетворяющие хотя бы одному из условий:\n",
        "\n",
        "    число кратно 17\n",
        "    число оканчивается на 9\n",
        "    число кратно 3 и 5 одновременно\n",
        "\n",
        "Формат входных данных\n",
        "На вход программе подаются два натуральных числа mmи n (m≤n), каждое на отдельной строке."
      ],
      "metadata": {
        "id": "fNzRBh34OT9w"
      }
    },
    {
      "cell_type": "code",
      "source": [
        "m = int(input())\n",
        "n = int(input())\n",
        "\n",
        "for i in range(m, n + 1):\n",
        "    if i % 17 == 0 or i % 10 == 9 or i % 15 == 0:\n",
        "        print(i)"
      ],
      "metadata": {
        "id": "GmrAuijvOaqI"
      },
      "execution_count": null,
      "outputs": []
    },
    {
      "cell_type": "markdown",
      "source": [
        "# **Таблица умножения**"
      ],
      "metadata": {
        "id": "S2LhCd4bOuWw"
      }
    },
    {
      "cell_type": "markdown",
      "source": [
        "Напиши программу для составления таблицы умножения."
      ],
      "metadata": {
        "id": "OxkWbIYpXsiD"
      }
    },
    {
      "cell_type": "code",
      "source": [
        "n = int(input())\n",
        "for i in range(1, 11):\n",
        "    print(n, 'x', i, '=', n * i)"
      ],
      "metadata": {
        "id": "vhm7wV5BO0hF"
      },
      "execution_count": null,
      "outputs": []
    },
    {
      "cell_type": "markdown",
      "source": [
        "# **Количество чисел**"
      ],
      "metadata": {
        "id": "XrmXBLvoarIt"
      }
    },
    {
      "cell_type": "markdown",
      "source": [
        "На вход программе подаются два целых числа a и bb(a≤b). Напишите программу, которая подсчитывает количество чисел в диапазоне от a до b (включительно), куб которых оканчивается на 4 или 9."
      ],
      "metadata": {
        "id": "xuQ_6ft-ap7R"
      }
    },
    {
      "cell_type": "code",
      "source": [
        "a = int(input())\n",
        "b = int(input())\n",
        "count = 0                        # Установка значения счетчика\n",
        "for i in range(a, b + 1):        # Создания цикла с итерациями от a до b+1\n",
        "    if i % 10 == 4 or i % 10 == 9:  # Проверка условия\n",
        "        count += 1               # Подсчет значений если условие True\n",
        "print(count)"
      ],
      "metadata": {
        "id": "Y_c2pplxXoyq"
      },
      "execution_count": null,
      "outputs": []
    },
    {
      "cell_type": "code",
      "source": [
        "a, b = int(input()), int(input())\n",
        "a += (4 - a) % 5\n",
        "print((b-a) // 5 + 1)"
      ],
      "metadata": {
        "id": "2pQvLSaobEfK"
      },
      "execution_count": null,
      "outputs": []
    },
    {
      "cell_type": "markdown",
      "source": [
        "\n",
        "\n",
        "Сначала можно обратить внимание, что куб числа оканчивается на 4 или 9 тогда и только тогда, когда само число оканчивается на 4 или 9 соответственно (интересное совпадение, кстати). Далее можно обратить внимание, что начиная с числа 4 условию задачи удовлетворяет каждое пятое число (т.е. это 4, 9, 14, 19 и т.д.). По коду:\n",
        "\n",
        "a += (4 - a) % 5 - приводим число a к ближайшему, оканчивающемуся на 4 или 9 (оно же будет первым числом в нашем диапазоне, куб которого оканчивается на 4 или 9);\n",
        "\n",
        "(b-a) // 5 + 1 - считаем, сколько удовлетворяющих условию задачи чисел попало в наш диапазон (напомню, что это каждое пятое число).\n"
      ],
      "metadata": {
        "id": "hsT3yzSNbFZy"
      }
    },
    {
      "cell_type": "markdown",
      "source": [
        "# **Сумма чисел**"
      ],
      "metadata": {
        "id": "wJXlZK0wbjlj"
      }
    },
    {
      "cell_type": "markdown",
      "source": [
        "На вход программе подается натуральное число n, а затем n целых чисел, каждое на отдельной строке. Напишите программу, которая подсчитывает сумму введенных чисел (не включая само число n)."
      ],
      "metadata": {
        "id": "8NDLkCKvblyJ"
      }
    },
    {
      "cell_type": "code",
      "source": [
        "a = int(input())\n",
        "s = 0                   # Установка переменной суммы 0\n",
        "for i in range(a):      # указываем программе сколько раз должен повторяться цикл\n",
        "    s += int(input())   # к сумме прибавляем введенное значение\n",
        "print(s)"
      ],
      "metadata": {
        "id": "0zqzWVLibqpg"
      },
      "execution_count": null,
      "outputs": []
    },
    {
      "cell_type": "markdown",
      "source": [
        "На вход программе подается натуральное число nn. Напишите программу, которая подсчитывает сумму тех чисел от 1 до n (включительно), квадрат которых оканчивается на 2, 5 или 8."
      ],
      "metadata": {
        "id": "f0Q_TtahdmsE"
      }
    },
    {
      "cell_type": "code",
      "source": [
        "n = int(input())\n",
        "s = 0                      # переменная для суммирования\n",
        "for i in range(1, n + 1):  # от 1 до n включительно\n",
        "    t = i**2               # поместим в t квадрат i - нашего счетчика в цикле\n",
        "    if t % 10 == 2 or t % 10 == 5 or t % 10 == 8:  # если квадрат числа оканчивается на 2, 5, 8\n",
        "        s += i             # прибавляем к переменной суммы подходящие числа\n",
        "print(s)"
      ],
      "metadata": {
        "id": "yVBbTl2fdrP2"
      },
      "execution_count": null,
      "outputs": []
    },
    {
      "cell_type": "markdown",
      "source": [
        "Т.к. не существует чисел, квадрат которых оканчивается на 2 и на 8, то не смотрим вообще этот случай\n",
        "\n",
        "Квадрат числа оканчивается на 5, если само число оканчивается на 5. Ну тогда и будем смотреть только такие числа: 5,15,25."
      ],
      "metadata": {
        "id": "aj72TgFsd2DJ"
      }
    },
    {
      "cell_type": "code",
      "source": [
        "n = int(input())\n",
        "\n",
        "sm = 0\n",
        "for i in range(5, n + 1, 10):\n",
        "    sm += i\n",
        "\n",
        "print(sm)"
      ],
      "metadata": {
        "id": "-dWC1-tjd51Y"
      },
      "execution_count": null,
      "outputs": []
    },
    {
      "cell_type": "markdown",
      "source": [
        "\n",
        "Решение в одну строчку без for и if!\n",
        "\n",
        "Для осознания того, что тут происходит, нужно вспомнить/узнать три факта:\n",
        "\n",
        "1) Не существует полных квадратов, которые оканчиваются на 2 или 8\n",
        "2) Сумма первых k нечетных чисел есть k**2\n",
        "3) ceil(a/b) = floor((a+b-1)/b)\n",
        "\n",
        "И так. Получается, что нам нужно найти только сумму чисел, квадрат которых равен пяти. Разумеется, это все такие числа, которые сами заканчиваются на пять: 5, 15, 25 ...\n",
        "\n",
        "То есть, нам нужно посчитать сумму 5 + 15 + 25 ... 5 + 10*x (5 + 10*x <= n)\n",
        "\n",
        "= 5 * (1 + 3 + 5 + 7 + ... ) = 5 * (1 + 3 + 5 + 7 + ... + ceil((n-4) / 10)) = 5 * (1 + 3 + 5 + 7 ... + floor((n+5) / 10)) = 5 * (1 + 3 + 5 + 7 ... + (n+5)//10) =\n",
        "5 * ((n+5)//10)**2\n",
        "\n",
        "Должен появится логичный вопрос: откуда мы взяли ceil((n-4) / 10)? Все очень просто: каждые десять чисел, начиная с пятерки, будет встречаться число, оканчивающееся на 5, отсюда и эта формула."
      ],
      "metadata": {
        "id": "Ei9BReGKeLqB"
      }
    },
    {
      "cell_type": "code",
      "source": [
        "print(5 * ((int(input())+5) // 10)**2)"
      ],
      "metadata": {
        "id": "tLFw8emBeSg8"
      },
      "execution_count": null,
      "outputs": []
    },
    {
      "cell_type": "markdown",
      "source": [
        "# **Асимптотическое приближение**"
      ],
      "metadata": {
        "id": "9TAKlurJb2vq"
      }
    },
    {
      "cell_type": "markdown",
      "source": [
        "На вход программе подается натуральное число n. Напишите программу, которая вычисляет значение выражения\n",
        "(1+1/2​ +1/3​+…+1/n​)−ln(n)."
      ],
      "metadata": {
        "id": "PPxIG7iBb5VY"
      }
    },
    {
      "cell_type": "code",
      "source": [
        "from math import log        # Импортируем из math функцию log\n",
        "diff = 0                       # Задаем стартовое значение переменной для скобок\n",
        "n = int(input())               # получаем число n\n",
        "for i in range(1, n + 1):      # Интервал начинаем с единицы, чтобы не делить на 0\n",
        "    diff += (1 / i)            # Набиваем скобки суммами частных\n",
        "print(diff - log(n))           # и дописываем формулу"
      ],
      "metadata": {
        "id": "bm9PzFWTcKzN"
      },
      "execution_count": null,
      "outputs": []
    },
    {
      "cell_type": "code",
      "source": [
        "from math import log\n",
        "\n",
        "n = int(input())\n",
        "\n",
        "res = -log(n)\n",
        "for i in range(1, n + 1):\n",
        "    res += 1 / i\n",
        "\n",
        "print(res)"
      ],
      "metadata": {
        "id": "HtaKYsnydPOO"
      },
      "execution_count": null,
      "outputs": []
    },
    {
      "cell_type": "markdown",
      "source": [
        "# **Факториал**"
      ],
      "metadata": {
        "id": "cyCk4MT1i9ps"
      }
    },
    {
      "cell_type": "markdown",
      "source": [
        "На вход программе подается натуральное число nn. Напишите программу, которая вычисляет n!"
      ],
      "metadata": {
        "id": "rhJOlbOSjA54"
      }
    },
    {
      "cell_type": "code",
      "source": [
        "n = int(input())\n",
        "total = 1                 # так как умножение на 0 даст 0\n",
        "for i in range(1, n + 1):\n",
        "    total *= i            # total умножаем на i\n",
        "print(total)"
      ],
      "metadata": {
        "id": "DNFydnZ5jHg3"
      },
      "execution_count": null,
      "outputs": []
    },
    {
      "cell_type": "code",
      "source": [
        "from math import factorial\n",
        "print(factorial(int(input())))"
      ],
      "metadata": {
        "id": "YRHYL_XTjYMD"
      },
      "execution_count": null,
      "outputs": []
    },
    {
      "cell_type": "code",
      "source": [
        "print(__import__('math').factorial(int(input())))"
      ],
      "metadata": {
        "id": "rUF2hCPajhMH"
      },
      "execution_count": null,
      "outputs": []
    },
    {
      "cell_type": "markdown",
      "source": [
        "рекурсией"
      ],
      "metadata": {
        "id": "0zZT-xBZlIIP"
      }
    },
    {
      "cell_type": "code",
      "source": [
        "def fct(i):\n",
        "    return i * fct(i - 1) if i else 1\n",
        "print(fct(int(input())))"
      ],
      "metadata": {
        "id": "yWbksR7lkIYd"
      },
      "execution_count": null,
      "outputs": []
    },
    {
      "cell_type": "code",
      "source": [
        "def factorial(x):\n",
        "    if x == 0 or x == 1:\n",
        "        return 1\n",
        "    return x * factorial(x - 1)\n",
        "\n",
        "\n",
        "print(factorial(int(input())))"
      ],
      "metadata": {
        "id": "Ci1ooVU7lKHt"
      },
      "execution_count": null,
      "outputs": []
    },
    {
      "cell_type": "markdown",
      "source": [
        "Но... Не нужно тут использовать рекурсию. Она в большинстве случаев работает ГОРАЗДО медленнее цикла и может забить память огромным стеком вызовов!"
      ],
      "metadata": {
        "id": "mgvV1hQdkJLO"
      }
    },
    {
      "cell_type": "code",
      "source": [
        "fact = lambda n: 1 if n == 0 else n * fact(n - 1)\n",
        "print(fact(int(input())))"
      ],
      "metadata": {
        "id": "xCXaOlY2kSgv"
      },
      "execution_count": null,
      "outputs": []
    },
    {
      "cell_type": "markdown",
      "source": [
        "# **Без нулей**"
      ],
      "metadata": {
        "id": "qJdUDGWzlcxI"
      }
    },
    {
      "cell_type": "markdown",
      "source": [
        "Напишите программу, которая считывает 10 чисел и выводит произведение отличных от нуля чисел."
      ],
      "metadata": {
        "id": "7ncJ9Snnlf2G"
      }
    },
    {
      "cell_type": "code",
      "source": [
        "total = 1                    # переменная в которой будем собирать произведение\n",
        "for i in range(10):          # цикл на ввод 10 значений\n",
        "    num = int(input())       # принимаем 10 входящих\n",
        "    if num > 0:              # условие что бы число было больше 0\n",
        "        total = num * total  # произведение всех чисел больше 0\n",
        "print(total)"
      ],
      "metadata": {
        "id": "L9EJ0NBuliKL"
      },
      "execution_count": null,
      "outputs": []
    },
    {
      "cell_type": "code",
      "source": [
        "res = 1\n",
        "\n",
        "for _ in range(10):\n",
        "    x = int(input())\n",
        "    if x != 0:\n",
        "        res *= x\n",
        "\n",
        "print(res)"
      ],
      "metadata": {
        "id": "3j_vis7ZKGq0"
      },
      "execution_count": null,
      "outputs": []
    },
    {
      "cell_type": "markdown",
      "source": [
        "# **Сумма делителей**"
      ],
      "metadata": {
        "id": "ITKKu3GJMWna"
      }
    },
    {
      "cell_type": "markdown",
      "source": [
        "На вход программе подается натуральное число n. Напишите программу, которая вычисляет сумму всех его делителей"
      ],
      "metadata": {
        "id": "795YDaqaLcl6"
      }
    },
    {
      "cell_type": "code",
      "source": [
        "n = int(input())               # получаем число\n",
        "sum = 0                        # присваиваем переменной суммы делителей 0\n",
        "for i in range(1, n + 1):      # цикл от 1 до нашего числа\n",
        "    if n % i == 0:             # находим делитель, если остаток от деления равен нулю\n",
        "        sum += i               # прибавлем к переменной текущий делитель\n",
        "print(sum)"
      ],
      "metadata": {
        "id": "AxdSjsMfMb5B"
      },
      "execution_count": null,
      "outputs": []
    },
    {
      "cell_type": "code",
      "source": [
        "n = int(input())\n",
        "sum_del = sum([i for i in range(1, n+1) if n % i == 0])\n",
        "print(sum_del)"
      ],
      "metadata": {
        "id": "8ra89Y9HLdDK"
      },
      "execution_count": null,
      "outputs": []
    },
    {
      "cell_type": "markdown",
      "source": [
        "# **Знакочередующаяся сумма**"
      ],
      "metadata": {
        "id": "VoGr3pwtNBZ8"
      }
    },
    {
      "cell_type": "markdown",
      "source": [
        "На вход программе подается натуральное число nn. Напишите программу вычисления знакочередующей суммы:\n",
        "1−2+3−4+5−6+…+((−1)**n+1)⋅n\n"
      ],
      "metadata": {
        "id": "YW1ocqymNFek"
      }
    },
    {
      "cell_type": "code",
      "source": [
        "n = int(input())\n",
        "res = 0\n",
        "for i in range(1, n + 1): # цикл от 1 до числа n\n",
        "    if i % 2 == 0:\n",
        "        res -= i  # если i делиться без остатка то вычитает из предыдущего результата\n",
        "    if i % 2 != 0:\n",
        "        res += i  # если i делиться с остатком то прибавляет к предыдущему результату\n",
        "print(res)"
      ],
      "metadata": {
        "id": "Bl8sKEZUNQX5"
      },
      "execution_count": null,
      "outputs": []
    },
    {
      "cell_type": "code",
      "source": [
        "n = int(input())\n",
        "\n",
        "f = 0\n",
        "for i in range(1, n + 1):\n",
        "    f += (-1) ** (i + 1) * i\n",
        "\n",
        "print(f)"
      ],
      "metadata": {
        "id": "ObpajJjANqEv"
      },
      "execution_count": null,
      "outputs": []
    },
    {
      "cell_type": "code",
      "source": [
        "n = int(input())\n",
        "print((n+1)//2 * (2*(n%2)-1))"
      ],
      "metadata": {
        "id": "akqS9bErN3NH"
      },
      "execution_count": null,
      "outputs": []
    },
    {
      "cell_type": "markdown",
      "source": [
        "# **Наибольшие числа**"
      ],
      "metadata": {
        "id": "yvQqfM22Or_z"
      }
    },
    {
      "cell_type": "markdown",
      "source": [
        "На вход программе подается натуральное число nn, а затем nn различных натуральных чисел последовательности, каждое на отдельной строке. Напишите программу, которая выводит наибольшее и второе наибольшее число последовательности.\n",
        "\n",
        "Формат входных данных\n",
        "На вход программе подаются натуральное число n≥2, а затем nn различных натуральных чисел, каждое на отдельной строке.\n",
        "\n",
        "Формат выходных данных\n",
        "Программа должна вывести два наибольших числа, каждое на отдельной строке."
      ],
      "metadata": {
        "id": "qMFTlDZgOt_2"
      }
    },
    {
      "cell_type": "code",
      "source": [
        "n = int(input())\n",
        "max1 = max2 = 1         # пусть самое большое число это минимально возможное\n",
        "for i in range(1, n+1): # цикл от 1 до n\n",
        "    a = int(input())    # получаем следующее число\n",
        "    if a > max1:        # если введенное число больше нашего максимума, то это новый максимум\n",
        "        max2 = max1     # запоминаем предыдущее наибольшее число в переменной max2\n",
        "        max1 = a        # а само это число на входе становится наибольшим\n",
        "    elif a > max2:      # если число не больше max1, то проверяем больше ли оно второго max2\n",
        "        max2 = a\n",
        "print(max1)\n",
        "print(max2)"
      ],
      "metadata": {
        "id": "_1K333gGOzVj"
      },
      "execution_count": null,
      "outputs": []
    },
    {
      "cell_type": "code",
      "source": [
        "nn = int(input())\n",
        "num = [int(input()) for i in range(n)]\n",
        "largest = max(num)\n",
        "num.remove(largest)\n",
        "large = max(num)\n",
        "print(largest)\n",
        "print(large)"
      ],
      "metadata": {
        "id": "IwG0XmtCPXfG"
      },
      "execution_count": null,
      "outputs": []
    },
    {
      "cell_type": "code",
      "source": [
        "s = [int(input()) for _ in range(int(input()))]\n",
        "print(max(s))\n",
        "s.remove(max(s))\n",
        "print(max(s))"
      ],
      "metadata": {
        "id": "5YfQ643uQAeK"
      },
      "execution_count": null,
      "outputs": []
    },
    {
      "cell_type": "code",
      "source": [
        "numbers = sorted([int(input()) for i in range(int(input()))])\n",
        "print(numbers[-1], numbers[-2], sep='\\n')"
      ],
      "metadata": {
        "id": "pI1_F8iPQM8_"
      },
      "execution_count": null,
      "outputs": []
    },
    {
      "cell_type": "markdown",
      "source": [
        "# **Only even numbers**"
      ],
      "metadata": {
        "id": "mjTRfwTiQzNh"
      }
    },
    {
      "cell_type": "markdown",
      "source": [
        "Напишите программу, которая считывает последовательность из 10 целых чисел и определяет, является ли каждое из них четным или нет.\n",
        "\n",
        "Формат входных данных\n",
        "На вход программе подаются 10 целых чисел, каждое на отдельной строке.\n",
        "\n",
        "Формат выходных данных\n",
        "Программа должна вывести строку «YES», если все числа четные, и «NO» в ином случае."
      ],
      "metadata": {
        "id": "q_bBIXvPQ2XF"
      }
    },
    {
      "cell_type": "code",
      "source": [
        "flag = 'YES'         # по умолчанию считаем что последовательность четная\n",
        "for _ in range(10):  # цикл до 10\n",
        "    a = int(input()) # получаем число\n",
        "    if a % 2 != 0:   # проверяем делимость числа на остаток\n",
        "        flag = 'NO'  # если число имеет остаток то NO\n",
        "print(flag)"
      ],
      "metadata": {
        "id": "LQw1Vi95Q1r2"
      },
      "execution_count": null,
      "outputs": []
    },
    {
      "cell_type": "code",
      "source": [
        "print(('NO', 'YES')[all(int(input())%2==0 for _ in range(10))])"
      ],
      "metadata": {
        "id": "3GPlUdZqRSQ8"
      },
      "execution_count": null,
      "outputs": []
    },
    {
      "cell_type": "markdown",
      "source": [
        " для того, чтобы функция all вернула истину(True), необходимо чтобы все значения генератора были истинными. Как только одно из условий не выполняется - цикл генератора заканчивается досрочно и возвращается ложь(False). По смыслу напоминает цикл с флагом и досрочным выходом по break, только все записано в компактном виде. Есть ещё одна дополняющая по смыслу фунция any, с ней даже лучше получается:\n",
        "\n",
        " any проверяет нет ли в последовательности хотя бы одного истинного значения. Как только найдено такое значение - обход последовательности прекращается и возвращается True. В противном случае обход завершается естественным образом и возвращается False. Логика тут такая: \"если есть хотя бы одно число, которое не делится на 2, то нужно вернуть NO\". Забыл упомянуть, что логические значения, возвращаемые функциями all/any приводятся к целым значениям 0(False), 1(True) которые становятся индексами в кортеже из двух возможных ответов.  "
      ],
      "metadata": {
        "id": "JRDECLgKRj-p"
      }
    },
    {
      "cell_type": "code",
      "source": [
        "print(('YES', 'NO')[any(int(input()) % 2 for _ in range(10))])"
      ],
      "metadata": {
        "id": "FsNJKgd4RlA2"
      },
      "execution_count": null,
      "outputs": []
    },
    {
      "cell_type": "code",
      "source": [
        "print('YES' if all(not int(input()) % 2 for _ in range(10)) else 'NO')"
      ],
      "metadata": {
        "id": "-INIX2sjR3oT"
      },
      "execution_count": null,
      "outputs": []
    },
    {
      "cell_type": "markdown",
      "source": [
        "# **Последовательность Фибоначчи**"
      ],
      "metadata": {
        "id": "b5rzCYeZR8z8"
      }
    },
    {
      "cell_type": "markdown",
      "source": [
        "Напишите программу, которая считывает натуральное число n и выводит первые n чисел последовательности Фибоначчи.\n",
        "\n",
        "Формат входных данных\n",
        "На вход программе подается одно число n  (n≤100)n  – количество членов последовательности.\n",
        "\n",
        "Формат выходных данных\n",
        "Программа должна вывести члены последовательности Фибоначчи, отделенные символом пробела.\n",
        "\n",
        "Примечание. Последовательность Фибоначчи – это последовательность натуральных чисел, где каждое последующее число является суммой двух предыдущих:\n",
        "1, 1, 2, 3, 5, 8, 13,  21, 34, 55, 89,…"
      ],
      "metadata": {
        "id": "w-u04v22SAXQ"
      }
    },
    {
      "cell_type": "code",
      "source": [
        "n = int(input())                # получаем кол-во циклов\n",
        "num1 = 0                        # число 1\n",
        "num2 = 1                        # число 2\n",
        "for i  in range(n):             # цикл до N\n",
        "    num2 = num1 + num2          # присваиваем переменной num2 новое значение суммы этой переменной с предыдущей\n",
        "    num1 = num2 - num1          # переменной num1 присваиваем значение которое было в num2\n",
        "    print(num1,end=' ')"
      ],
      "metadata": {
        "id": "EO-ddCAkSQQB"
      },
      "execution_count": null,
      "outputs": []
    },
    {
      "cell_type": "code",
      "source": [
        "n = int(input())\n",
        "a, b = 1, 1\n",
        "\n",
        "for i in range(n):\n",
        "    print(a, end=' ')\n",
        "    a, b = b, a + b"
      ],
      "metadata": {
        "id": "Bb_tVcN0SiKs"
      },
      "execution_count": null,
      "outputs": []
    },
    {
      "cell_type": "markdown",
      "source": [
        "# **До КОНЦА** while"
      ],
      "metadata": {
        "id": "Fj0aWKevZesc"
      }
    },
    {
      "cell_type": "markdown",
      "source": [
        "На вход программе подается последовательность слов, каждое слово на отдельной строке. Концом последовательности является слово «КОНЕЦ» или «конец» (большими или маленькими буквами, без кавычек). При этом сами слова «КОНЕЦ» и «конец» не входят в последовательность, лишь символизируя её окончание. Напишите программу, которая выводит члены данной последовательности.\n",
        "\n",
        "Формат входных данных\n",
        "На вход программе подается последовательность слов, каждое слово на отдельной строке.\n",
        "\n",
        "Формат выходных данных\n",
        "Программа должна вывести члены данной последовательности."
      ],
      "metadata": {
        "id": "MrLIgWnFZjOn"
      }
    },
    {
      "cell_type": "code",
      "source": [
        "x = input()\n",
        "while x.lower() != 'конец':\n",
        "    print(x)\n",
        "    x = input()"
      ],
      "metadata": {
        "id": "tibsgKz4aFW-"
      },
      "execution_count": null,
      "outputs": []
    },
    {
      "cell_type": "code",
      "source": [
        "word = input()\n",
        "while not (word == \"КОНЕЦ\" or word == \"конец\"):\n",
        "    print(word)\n",
        "    word = input()\n"
      ],
      "metadata": {
        "id": "c--SYrjkY1pn"
      },
      "execution_count": null,
      "outputs": []
    },
    {
      "cell_type": "code",
      "source": [
        "word = input()\n",
        "while word != \"КОНЕЦ\" and word != \"конец\":\n",
        "    print(word)\n",
        "    word = input()"
      ],
      "metadata": {
        "id": "xNBX2Q21ZvSp"
      },
      "execution_count": null,
      "outputs": []
    },
    {
      "cell_type": "code",
      "source": [
        "x = input()\n",
        "while x not in ('КОНЕЦ', 'конец'):\n",
        "  print(x)\n",
        "  x = input()"
      ],
      "metadata": {
        "id": "4iwFOQDiZyyd"
      },
      "execution_count": null,
      "outputs": []
    },
    {
      "cell_type": "markdown",
      "source": [
        "# **Количество членов**"
      ],
      "metadata": {
        "id": "41WCCym2abh7"
      }
    },
    {
      "cell_type": "markdown",
      "source": [
        "На вход программе подается последовательность слов, каждое слово на отдельной строке. Концом последовательности является одно из трех слов: «стоп», «хватит», «достаточно» (маленькими буквами, без кавычек). Сами эти слова в последовательность не входят, лишь символизируя её окончание. Напишите программу, которая выводит общее количество членов данной последовательности.\n",
        "\n",
        "Формат входных данных\n",
        "На вход программе подается последовательность слов, каждое слово на отдельной строке.\n",
        "\n",
        "Формат выходных данных\n",
        "Программа должна вывести общее количество членов данной последовательности."
      ],
      "metadata": {
        "id": "CVzNvMTAaeAf"
      }
    },
    {
      "cell_type": "code",
      "source": [
        "text = input()\n",
        "total = 0\n",
        "while text not in ('стоп', 'хватит', 'достаточно'):\n",
        "    total += 1\n",
        "    text = input()\n",
        "print(total)"
      ],
      "metadata": {
        "id": "ad6dqih0af7P"
      },
      "execution_count": null,
      "outputs": []
    },
    {
      "cell_type": "code",
      "source": [
        " = 0\n",
        "while input() not in (\"стоп\", \"хватит\", \"достаточно\"):\n",
        "    a+=1\n",
        "print(a)"
      ],
      "metadata": {
        "id": "GUlP-No_atno"
      },
      "execution_count": null,
      "outputs": []
    },
    {
      "cell_type": "markdown",
      "source": [
        "# **Ведьмаку заплатите чеканной монетой**\n",
        "\n"
      ],
      "metadata": {
        "id": "0XkHkp6Cck00"
      }
    },
    {
      "cell_type": "markdown",
      "source": [
        "Всем известно, что ведьмак способен одолеть любых чудовищ, однако его услуги обойдутся недешево. К тому же ведьмак не принимает купюры, он принимает только чеканные монеты. В мире ведьмака существуют монеты с номиналами 1, 5, 10, 25.\n",
        "\n",
        "Напишите программу, которая определяет, какое минимальное количество чеканных монет нужно заплатить ведьмаку.\n",
        "\n",
        "Формат входных данных\n",
        "На вход программе подается одно натуральное число - цена за услугу ведьмака.\n",
        "\n",
        "Формат выходных данных\n",
        "Программа должна вывести минимально возможное количество чеканных монет для оплаты."
      ],
      "metadata": {
        "id": "03oTfwbTcnbl"
      }
    },
    {
      "cell_type": "code",
      "source": [
        "n = int(input())\n",
        "k = 0\n",
        "for i in (25, 10, 5, 1):\n",
        "    while n // i > 0:\n",
        "        k += 1\n",
        "        n -= i\n",
        "print(k)"
      ],
      "metadata": {
        "id": "y3Qfzagoc7cG"
      },
      "execution_count": null,
      "outputs": []
    },
    {
      "cell_type": "code",
      "source": [
        "n = int(input())\n",
        "print(n // 25 + n % 25 // 10 + n % 25 % 10 // 5 + n % 5)"
      ],
      "metadata": {
        "id": "WQ5xlE4EdKGG"
      },
      "execution_count": null,
      "outputs": []
    },
    {
      "cell_type": "code",
      "source": [
        "reward = int(input())\n",
        "total = 0\n",
        "for coin in [25, 10, 5, 1]:\n",
        "    total += reward // coin\n",
        "    reward %= coin\n",
        "print(total)"
      ],
      "metadata": {
        "id": "qqelHly9dXEE"
      },
      "execution_count": null,
      "outputs": []
    },
    {
      "cell_type": "code",
      "source": [
        "n = int(input())\n",
        "a = n // 25\n",
        "b = (n - 25 * a) // 10\n",
        "c = (n - 25 * a - 10 * b) // 5\n",
        "d = (n - 25 * a - 10 * b - 5 * c) // 1\n",
        "print(a + b + c + d)"
      ],
      "metadata": {
        "id": "Z46OXly5dj5I"
      },
      "execution_count": null,
      "outputs": []
    },
    {
      "cell_type": "markdown",
      "source": [
        "# **Упорядоченные цифры по неубыванию**"
      ],
      "metadata": {
        "id": "Grr2UfuRmfJb"
      }
    },
    {
      "cell_type": "markdown",
      "source": [
        "Дано натуральное число. Напишите программу, которая определяет, является ли последовательность его цифр при просмотре справа налево упорядоченной по неубыванию.\n",
        "\n",
        "Формат входных данных\n",
        "На вход программе подается одно натуральное число.\n",
        "\n",
        "Формат выходных данных\n",
        "Программа должна вывести «YES» если последовательность его цифр при просмотре справа налево является упорядоченной по неубыванию и «NO» в противном случае.\n",
        "\n",
        "\"справа налево упорядоченной по неубыванию” означает что правая цифра меньше или РАВНА левой."
      ],
      "metadata": {
        "id": "CgDCc_K4mkR-"
      }
    },
    {
      "cell_type": "code",
      "source": [
        "num = int(input())\n",
        "teg = 'YES'           # используем тег и считаем что последовательность упорядочена\n",
        "a = num % 10          # находим послееднюю цифру числа\n",
        "\n",
        "while num:            # запускаем цикл\n",
        "    if a > num % 10:  # условие если предыдущая цифра больше последующей\n",
        "        teg = 'NO'    # то присваиваем тег NO, и уже нет смысла записывать в a последнию цифру\n",
        "    else:             # иначе\n",
        "        a = num % 10  # присваиваем последнюю цифру - переменной\n",
        "    num //= 10        # удаляем последнюю цифру числа\n",
        "print(teg)"
      ],
      "metadata": {
        "id": "F8R2JKKffKwV"
      },
      "execution_count": null,
      "outputs": []
    },
    {
      "cell_type": "code",
      "source": [
        "a=list(map(int, list(input())))\n",
        "print(\"YNEOS\"[int(a!=sorted(a)[::-1])::2])"
      ],
      "metadata": {
        "id": "HC6D03v_m2rw"
      },
      "execution_count": null,
      "outputs": []
    },
    {
      "cell_type": "code",
      "source": [
        "n = list(input())\n",
        "print(('NO', 'YES')[n == sorted(n, reverse=True)])"
      ],
      "metadata": {
        "id": "XEsZcJZWnFWu"
      },
      "execution_count": null,
      "outputs": []
    },
    {
      "cell_type": "code",
      "source": [
        "n = int(input())\n",
        "while n % 10 <= n // 10 % 10:\n",
        "    n //= 10\n",
        "print(\"YES\" if n < 10 else \"NO\")"
      ],
      "metadata": {
        "id": "2nSTHxUYnZ_p"
      },
      "execution_count": null,
      "outputs": []
    },
    {
      "cell_type": "markdown",
      "source": [
        "# **Наименьший делитель**"
      ],
      "metadata": {
        "id": "-sOcjzOXo-ny"
      }
    },
    {
      "cell_type": "markdown",
      "source": [
        "На вход программе подается число n>1. Напишите программу, которая выводит его наименьший отличный от 1 делитель.\n",
        "\n",
        "Формат входных данных\n",
        "На вход программе подается одно натуральное число nn.\n",
        "\n",
        "Формат выходных данных\n",
        "Программа должна вывести наименьший делитель отличный от 1.\n",
        "\n",
        "Примечание. Используйте оператор break при обнаружении делителя."
      ],
      "metadata": {
        "id": "YFrWDlE6pESf"
      }
    },
    {
      "cell_type": "code",
      "source": [
        "n = int(input())\n",
        "\n",
        "for i in range (2, n+1): # начинаем делить с 2\n",
        "    if n %i == 0:        # поиск минимального делителя\n",
        "        break            # прерываем если нашли\n",
        "print(i)"
      ],
      "metadata": {
        "id": "suLatGa3pISr"
      },
      "execution_count": null,
      "outputs": []
    },
    {
      "cell_type": "code",
      "source": [
        "n, div = int(input()), 2\n",
        "while n % div:\n",
        "    div += 1\n",
        "print(div)"
      ],
      "metadata": {
        "id": "zablEiqhpQhH"
      },
      "execution_count": null,
      "outputs": []
    },
    {
      "cell_type": "code",
      "source": [
        "n = int(input())\n",
        "i = 2\n",
        "while n % i != 0:\n",
        "    i += 1\n",
        "print(i)"
      ],
      "metadata": {
        "id": "9EWY8nArpbby"
      },
      "execution_count": null,
      "outputs": []
    },
    {
      "cell_type": "markdown",
      "source": [
        "# **Следуй правилам**"
      ],
      "metadata": {
        "id": "p8Zk6JgT1dxs"
      }
    },
    {
      "cell_type": "markdown",
      "source": [
        "На вход программе подается натуральное число nn. Напишите программу, которая выводит числа от 1 до n включительно за исключением:\n",
        "\n",
        "    чисел от 5 до 9 включительно;\n",
        "    чисел от 17 до 37 включительно;\n",
        "    чисел от 78 до 87 включительно.\n",
        "\n",
        "Формат входных данных\n",
        "На вход программе подается одно натуральное число nn.\n",
        "\n",
        "Формат выходных данных\n",
        "Программа должна вывести числа в соответствии с условием задачи, каждое на отдельной строке.\n",
        "\n",
        "Примечание. Используйте оператор continue .\n"
      ],
      "metadata": {
        "id": "PAelPnCg1f-g"
      }
    },
    {
      "cell_type": "code",
      "source": [
        "n = int(input())\n",
        "for i in range(1, n+1):\n",
        "    if i in range(5, 10) or i in range(17, 38) or i in range(78, 88):\n",
        "        continue      # если число равно одному из диапозонов то дальше не выполняем\n",
        "    print(i)"
      ],
      "metadata": {
        "id": "_QWOHueu1tJ6"
      },
      "execution_count": null,
      "outputs": []
    },
    {
      "cell_type": "code",
      "source": [
        "[print(i) for i in range(1,int(input())+1) if not (5 <= i <= 9 or 17 <= i <= 37 or 78 <= i <= 87)]\n"
      ],
      "metadata": {
        "id": "cYudNwHu2ess"
      },
      "execution_count": null,
      "outputs": []
    },
    {
      "cell_type": "markdown",
      "source": [
        "# **Ревью кода-1**"
      ],
      "metadata": {
        "id": "aY2mPBztCWDe"
      }
    },
    {
      "cell_type": "markdown",
      "source": [
        "На обработку поступает последовательность из 10 целых чисел (каждое на отдельной строке). Нужно написать программу, которая выводит на экран количество неотрицательных чисел последовательности и их произведение. Если неотрицательных чисел нет, требуется вывести на экран «NO». Программист торопился и написал программу неправильно.\n",
        "\n",
        "Найдите все ошибки в этой программе (их ровно 4). Известно, что каждая ошибка затрагивает только одну строку и может быть исправлена без изменения других строк.\n",
        "\n",
        "Примечание. При необходимости вы можете добавить необходимые строки кода."
      ],
      "metadata": {
        "id": "pdpNojtACY2W"
      }
    },
    {
      "cell_type": "code",
      "source": [
        "count = 0\n",
        "p = 1  # ошибка: p не должно быть равно 0\n",
        "for i in range(1,11):  # ошибка: range(1, 10) это 9 итераций - 9 цифр\n",
        "    x = int(input())\n",
        "    if x > -1:  # ошибка: х тоже не отрицательное число\n",
        "        p = p * x\n",
        "        count = count + 1\n",
        "if count > 0:\n",
        "    print(count)  # ошибка: печатаем счетчик, а не переменную\n",
        "    print(p)\n",
        "else:\n",
        "    print('NO')"
      ],
      "metadata": {
        "id": "qQ4jRB5DCcnp"
      },
      "execution_count": null,
      "outputs": []
    },
    {
      "cell_type": "code",
      "source": [
        "\n",
        "num = [int(input()) for _ in range(10)]\n",
        "counter = 0\n",
        "multiplier = 1\n",
        "for n in num:\n",
        "  if n < 0:\n",
        "    counter += 1\n",
        "    multiplier *= n\n",
        "if counter == 0:\n",
        "  print ('NO')\n",
        "else:\n",
        "  print(counter)\n",
        "  print(multiplier)"
      ],
      "metadata": {
        "id": "PCBNZ3wF9wUo"
      },
      "execution_count": null,
      "outputs": []
    },
    {
      "cell_type": "markdown",
      "source": [
        "# **Ревью кода-2**"
      ],
      "metadata": {
        "id": "mI4ZwamFE8kP"
      }
    },
    {
      "cell_type": "markdown",
      "source": [
        "На обработку поступает последовательность из 10 целых чисел (каждое на отдельной строке). Известно, что вводимые числа по абсолютной величине не превышают 10*6. Нужно написать программу, которая выводит на экран сумму всех отрицательных чисел последовательности и максимальное отрицательное число в последовательности. Если отрицательных чисел нет, требуется вывести на экран «NO». Программист торопился и написал программу неправильно.\n",
        "\n",
        "Найдите все ошибки в этой программе (их ровно 5). Известно, что каждая ошибка затрагивает только одну строку и может быть исправлена без изменения других строк.\n",
        "\n",
        "Примечание. При необходимости вы можете добавить необходимые строки кода.\n",
        "Подсказка\n",
        "\n",
        "Максимальное отрицательное число – это число, которое является отрицательным и больше всех других отрицательных чисел, которые встречаются в данной последовательности. Например, в последовательности −7,4,−2,10,−5 среди отрицательных чисел −7,−2,−5 максимальным является −2 (т.к. на координатной оси чисел находится правее, чем −7 и −5).\n"
      ],
      "metadata": {
        "id": "sB1UqJmxE-xK"
      }
    },
    {
      "cell_type": "code",
      "source": [
        "mx = - pow(10, 6)      # изменение стартового значения мах на минимально возможное\n",
        "s = 0\n",
        "for i in range(1, 11): # появилось начало последовательности\n",
        "    x = int(input())\n",
        "    if x < 0:\n",
        "        s += x         # добавился +, чтобы считать сумму\n",
        "    if 0 > x > mx:\n",
        "        mx = x\n",
        "if s < 0:              # добавление оператора условия\n",
        "    print(s)\n",
        "    print(mx)\n",
        "else:                  # добавление второго варианта ответа\n",
        "    print('NO')"
      ],
      "metadata": {
        "id": "vuasyUYDFOv0"
      },
      "execution_count": null,
      "outputs": []
    },
    {
      "cell_type": "code",
      "source": [
        "arr = []\n",
        "for i in range(10):\n",
        "    x = int(input())\n",
        "    if x < 0:\n",
        "        arr.append(x)\n",
        "if len(arr) > 0:\n",
        "    print(sum(arr))\n",
        "    print(max(arr))\n",
        "else:\n",
        "    print(\"NO\")"
      ],
      "metadata": {
        "id": "oc2b07PiF8pS"
      },
      "execution_count": null,
      "outputs": []
    },
    {
      "cell_type": "code",
      "source": [
        "numbers = [num for num in [int(input()) for _ in range(10)] if num < 0]\n",
        "print(f'{sum(numbers)}\\n{max(numbers)}' if len(numbers) else 'NO')"
      ],
      "metadata": {
        "id": "214EbpQZIW1v"
      },
      "execution_count": null,
      "outputs": []
    },
    {
      "cell_type": "markdown",
      "source": [
        "# **Ревью кода-3**"
      ],
      "metadata": {
        "id": "U84dfXNBN97G"
      }
    },
    {
      "cell_type": "markdown",
      "source": [
        "На обработку поступает последовательность из 7 целых чисел (каждое на отдельной строке). Нужно написать программу, которая подсчитывает и выводит сумму всех чётных чисел последовательности или 0, если чётных чисел в последовательности нет. Программист торопился и написал программу неправильно.\n",
        "\n",
        "Найдите все ошибки в этой программе (их ровно 4). Известно, что каждая ошибка затрагивает только одну строку и может быть исправлена без изменения других строк.\n",
        "\n",
        "Примечание. При необходимости вы можете добавить необходимые строки кода."
      ],
      "metadata": {
        "id": "aBUIox6tOAdA"
      }
    },
    {
      "cell_type": "code",
      "source": [
        "s = 0                 # неверно задана переменная (было 1)\n",
        "for i in range(7):    # неверно заданы границы диапозона (было (1, 7))\n",
        "    n = int(input())  # отсутствие преобразования в целое число (не было int())\n",
        "    if n % 2 == 0:    # неправильная переменная в условии (была i)\n",
        "        s = s + n\n",
        "print(s)"
      ],
      "metadata": {
        "id": "Rt12SsCWOMqO"
      },
      "execution_count": null,
      "outputs": []
    },
    {
      "cell_type": "code",
      "source": [
        "print(sum([i for i in [int(input()) for _ in ' ' * 7] if not i % 2]))"
      ],
      "metadata": {
        "id": "ok8S9TxmOiK0"
      },
      "execution_count": null,
      "outputs": []
    },
    {
      "cell_type": "markdown",
      "source": [
        "[int(input()) for _ in ' ' * 7] - Это равноценно [int(input()) for _ in range(7)]"
      ],
      "metadata": {
        "id": "e318ljXiOyHa"
      }
    },
    {
      "cell_type": "markdown",
      "source": [
        "# **Ревью кода-4**"
      ],
      "metadata": {
        "id": "65CCMFjbPEmv"
      }
    },
    {
      "cell_type": "markdown",
      "source": [
        "На обработку поступает натуральное число. Нужно написать программу, которая выводит на экран максимальную цифру числа, кратную 3. Если в числе нет цифр, кратных 3, требуется на экран вывести «NO». Программист торопился и написал программу неправильно.\n",
        "\n",
        "Найдите все ошибки в этой программе (их ровно 5). Известно, что каждая ошибка затрагивает только одну строку и может быть исправлена без изменения других строк.\n",
        "\n",
        "Примечание 1. Число 0 делится на любое натуральное число.\n",
        "\n",
        "Примечание 2. При необходимости вы можете добавить нужные строки кода."
      ],
      "metadata": {
        "id": "LAxTpJAHPGLf"
      }
    },
    {
      "cell_type": "code",
      "source": [
        "n = int(input())\n",
        "max_digit = -1  # отталкиваться надо от -1, чтобы любая подходящая цифра могла заменить его\n",
        "while n > 0:\n",
        "    digit = n % 10\n",
        "    if digit % 3 == 0:\n",
        "        if digit > max_digit:  # нужно найти большее число\n",
        "            max_digit = digit  # перепутал местами\n",
        "    n //= 10                   # нужно откинуть последнюю цифру\n",
        "if max_digit == -1:            # сравнивать нужно не с 0\n",
        "    print('NO')\n",
        "else:\n",
        "    print(max_digit)"
      ],
      "metadata": {
        "id": "tdRtastIPM07"
      },
      "execution_count": null,
      "outputs": []
    },
    {
      "cell_type": "code",
      "source": [
        "n = input()\n",
        "\n",
        "digit = [i for i in n if int(i) % 3 == 0]\n",
        "if len(digit) == 0:\n",
        "  print('NO')\n",
        "else:\n",
        "  print(max(digit))"
      ],
      "metadata": {
        "id": "-AUD1MtxP4gB"
      },
      "execution_count": null,
      "outputs": []
    },
    {
      "cell_type": "markdown",
      "source": [
        "# **Ревью кода-5**"
      ],
      "metadata": {
        "id": "o3J4HaURmsEL"
      }
    },
    {
      "cell_type": "markdown",
      "source": [
        "На обработку поступает натуральное число. Нужно написать программу, которая выводит на экран его первую (старшую) цифру. Программист торопился и написал программу неправильно.\n",
        "\n",
        "Найдите все ошибки в этой программе (их ровно 2). Известно, что каждая ошибка затрагивает только одну строку и может быть исправлена без изменения других строк."
      ],
      "metadata": {
        "id": "IJoiwWkBmxkK"
      }
    },
    {
      "cell_type": "code",
      "source": [
        "n = int(input())\n",
        "while n > 9:  # Ошибка - цикл имеет смысл только в случае если данное натурально число дву- и  более -значное.\n",
        "    n //= 10  # Ошибка - нам необходимо постепенно отбрасывать числа до первого, а не выяснять последние из них.\n",
        "print(n)"
      ],
      "metadata": {
        "id": "duAf0cvwm0Rx"
      },
      "execution_count": null,
      "outputs": []
    },
    {
      "cell_type": "code",
      "source": [
        "print(input()[0])"
      ],
      "metadata": {
        "id": "DcO_ra0UnC5x"
      },
      "execution_count": null,
      "outputs": []
    },
    {
      "cell_type": "markdown",
      "source": [
        "# **Ревью кода - 7**"
      ],
      "metadata": {
        "id": "QYWn8oKWWoUl"
      }
    },
    {
      "cell_type": "markdown",
      "source": [
        "На обработку поступает натуральное число. Нужно написать программу, которая выводит на экран сумму четных цифр этого числа или 0, если четных цифр в записи нет. Программист торопился и написал программу неправильно.\n",
        "\n",
        "Найдите все ошибки в этой программе (их может быть одна или несколько). Известно, что каждая ошибка затрагивает только одну строку и может быть исправлена без изменения других строк.\n",
        "\n",
        "Примечание. Обратите внимание, что требуется найти ошибки в имеющейся программе, а не написать свою, возможно, использующую другой алгоритм решения."
      ],
      "metadata": {
        "id": "hd7IFmbeWrSw"
      }
    },
    {
      "cell_type": "code",
      "source": [
        "n = int(input())\n",
        "s = 0\n",
        "while n > 0:\n",
        "    if n % 2 == 0:\n",
        "        s += n % 10\n",
        "    n //= 10\n",
        "print(s)"
      ],
      "metadata": {
        "id": "VZ2HWnc5Wu-Q"
      },
      "execution_count": null,
      "outputs": []
    },
    {
      "cell_type": "code",
      "source": [
        "print(sum([i for i in map(int, input()) if i % 2 ==0]))"
      ],
      "metadata": {
        "id": "uGqf6NbFXBYF"
      },
      "execution_count": null,
      "outputs": []
    },
    {
      "cell_type": "code",
      "source": [
        "n = int(input())\n",
        "s = 0\n",
        "while n > 0:\n",
        "    last_digit = n % 10\n",
        "    if last_digit % 2 == 0:\n",
        "        s += last_digit\n",
        "    n //= 10\n",
        "print(s)"
      ],
      "metadata": {
        "id": "33n4W6l-Xc6Q"
      },
      "execution_count": null,
      "outputs": []
    },
    {
      "cell_type": "code",
      "source": [
        "print(sum([int(i) for i in input() if int(i)%2==0]))"
      ],
      "metadata": {
        "id": "2DUM5bc4XxV-"
      },
      "execution_count": null,
      "outputs": []
    },
    {
      "cell_type": "markdown",
      "source": [
        "# **Ревью кода - 8**"
      ],
      "metadata": {
        "id": "H1rxnpidYAe6"
      }
    },
    {
      "cell_type": "markdown",
      "source": [
        "На обработку поступает последовательность из 88 целых чисел. Известно, что вводимые числа по абсолютной величине не превышают 10**12. Нужно написать программу, которая выводит на экран количество делящихся нацело на 4 чисел в исходной последовательности и максимальное делящееся нацело на 4 число. Если делящихся нацело на 4 чисел нет, на экран требуется вывести «NO». Программист торопился и написал программу неправильно.\n",
        "\n",
        "Найдите все ошибки в этой программе (их может быть одна или несколько). Известно, что каждая ошибка затрагивает только одну строку и может быть исправлена без изменения других строк.\n",
        "\n",
        "Примечание. Обратите внимание, что требуется найти ошибки в имеющейся программе, а не написать свою, возможно, использующую другой алгоритм решения."
      ],
      "metadata": {
        "id": "lVyjb10oYEoL"
      }
    },
    {
      "cell_type": "code",
      "source": [
        "n = 8 # n = 7, по условию чисел 8\n",
        "count = 0\n",
        "maximum = -10**6 - 1 # maximum = 1000, все случаи, когда все числа меньше 1000, обрабатываются неверно\n",
        "for i in range(1, n + 1):\n",
        "    x = int(input())\n",
        "    if x % 4 == 0: # x // 4 == 0, по условию нужно найти числа, дел. на 4 без остатка\n",
        "        count += 1\n",
        "        if x > maximum: # if x < maximum, если число больше максимума, оно его заменяет, не если меньше максимума\n",
        "            maximum = x\n",
        "if count > 0:\n",
        "    print(count)\n",
        "    print(maximum)\n",
        "else:\n",
        "    print('NO')"
      ],
      "metadata": {
        "id": "uoUgHimQYQJl"
      },
      "execution_count": null,
      "outputs": []
    },
    {
      "cell_type": "markdown",
      "source": [
        "# **Ревью кода - 9**"
      ],
      "metadata": {
        "id": "QZfHRJa7ZDg0"
      }
    },
    {
      "cell_type": "markdown",
      "source": [
        "На обработку поступает последовательность из 4 целых чисел. Известно, что вводимые числа по абсолютной величине не превышают 10*8. Нужно написать программу, которая выводит на экран количество нечетных чисел в исходной последовательности и максимальное нечетное число. Если нечетных чисел нет, требуется на экран вывести «NO». Программист торопился и написал программу неправильно.\n",
        "\n",
        "Найдите все ошибки в этой программе (их может быть одна или несколько). Известно, что каждая ошибка затрагивает только одну строку и может быть исправлена без изменения других строк.\n",
        "\n",
        "Примечание. Обратите внимание, что требуется найти ошибки в имеющейся программе, а не написать свою, возможно, использующую другой алгоритм решения."
      ],
      "metadata": {
        "id": "OxaMgVeCZF4H"
      }
    },
    {
      "cell_type": "code",
      "source": [
        "count = 0\n",
        "maximum = -1\n",
        "for i in range(4):\n",
        "    x = int(input())\n",
        "    if x % 2 != 0:\n",
        "        count += 1\n",
        "        if x > maximum:\n",
        "            maximum = x\n",
        "if count > 0:\n",
        "    print(count)\n",
        "    print(maximum)\n",
        "else:\n",
        "    print('NO')"
      ],
      "metadata": {
        "id": "wAV7kUT1ZM0N"
      },
      "execution_count": null,
      "outputs": []
    },
    {
      "cell_type": "markdown",
      "source": [
        "# **Таблица сложения**"
      ],
      "metadata": {
        "id": "N50pIL4wzEBi"
      }
    },
    {
      "cell_type": "markdown",
      "source": [
        "Дано натуральное число n  (n≤ 9). Напишите программу, которая печатает таблицу сложения для всех чисел от 1 до n (включительно) в соответствии с примером.\n",
        "\n",
        "Формат входных данных\n",
        "На вход программе подается одно натуральное число.\n",
        "\n",
        "Формат выходных данных\n",
        "Программа должна вывести таблицу сложения для всех чисел от 1 до n.\n",
        "\n",
        "Примечание 1. Таблицу сложения подразумеваем от 1 до 9 (включительно).\n",
        "\n",
        "Примечание 2. В конце строки может быть пробел."
      ],
      "metadata": {
        "id": "hwb9KKx7zPOL"
      }
    },
    {
      "cell_type": "code",
      "source": [
        "n = int(input())\n",
        "for i in range(1, n+1):            # каждый новый цикл будет выводиться следущее число i\n",
        "    for g in range(1,10):          # выводим последовательность от 1 до 9\n",
        "        print(i, '+', g, '=', g+i)  # выводим таблицу сложения\n",
        "    print()                        # переходим на новую строку"
      ],
      "metadata": {
        "id": "yk_Cj6uTzbA6"
      },
      "execution_count": null,
      "outputs": []
    },
    {
      "cell_type": "markdown",
      "source": [
        "# **Звездный треугольник**"
      ],
      "metadata": {
        "id": "iPwfDAE2zl3-"
      }
    },
    {
      "cell_type": "markdown",
      "source": [
        "Дано нечетное натуральное число n. Напишите программу, которая печатает равнобедренный звездный треугольник с основанием, равным n в соответствии с примером:\n",
        "\n",
        "    *\n",
        "    **\n",
        "    ***\n",
        "    ****\n",
        "    ***\n",
        "    **\n",
        "    *\n",
        "\n",
        "Формат входных данных\n",
        "На вход программе подается одно нечетное натуральное число.\n",
        "\n",
        "Формат выходных данных\n",
        "Программа должна вывести треугольник в соответствии с условием.\n",
        "\n",
        "Примечание. Используйте вложенный цикл for."
      ],
      "metadata": {
        "id": "oKv4lxt5zoQA"
      }
    },
    {
      "cell_type": "code",
      "source": [
        "n = int(input())\n",
        "centr = n // 2 + 1  # находим середину\n",
        "count = 0  # кол-во звезд в строке\n",
        "for i in range(1, n + 1):\n",
        "    if i > centr:\n",
        "        count -= 1  # если перешли за середину то убавляем кол-во звезд\n",
        "    else:\n",
        "        count += 1  # иначе прибавляем кол-во звезд\n",
        "\n",
        "    for _ in range(count):  # выполняем цикл сколько нужно звезд\n",
        "        print('*', end='')\n",
        "    print()"
      ],
      "metadata": {
        "id": "szPBEJxxz2Bv"
      },
      "execution_count": null,
      "outputs": []
    },
    {
      "cell_type": "code",
      "source": [
        "n = int(input())\n",
        "\n",
        "for i in range(n):\n",
        "    cur_cnt = (n // 2 + 1) - abs(n // 2 - i)\n",
        "    for j in range(cur_cnt):\n",
        "        print(\"*\", end=\"\")\n",
        "    print()"
      ],
      "metadata": {
        "id": "zZIn4K6a0jwy"
      },
      "execution_count": null,
      "outputs": []
    },
    {
      "cell_type": "code",
      "source": [
        "n = int(input())\n",
        "\n",
        "for i in range(n):\n",
        "    cur_cnt = (n // 2 + 1) - abs(n // 2 - i)\n",
        "    print(cur_cnt * \"*\")"
      ],
      "metadata": {
        "id": "nH7HM-Ap0vSP"
      },
      "execution_count": null,
      "outputs": []
    },
    {
      "cell_type": "markdown",
      "source": [
        "# **Звездная рамка**"
      ],
      "metadata": {
        "id": "i10HCih4ZtSN"
      }
    },
    {
      "cell_type": "markdown",
      "source": [
        "На вход программе подается натуральное число n. Напишите программу, которая печатает звездную рамку размерами n×19.\n",
        "\n",
        "Формат входных данных\n",
        "На вход программе подаётся натуральное число n∈[3; 19] — высота звездной рамки.\n",
        "\n",
        "Формат выходных данных\n",
        "Программа должна вывести звездную рамку размерами n×19.\n",
        "\n",
        "Подсказка. Для печати звездной линии используйте умножение строки на число.\n",
        "\n",
        "\n",
        "Sample Input 1:\n",
        "\n",
        "3\n",
        "\n",
        "Sample Output 1:\n",
        "\n",
        "    *******************\n",
        "    *                 *\n",
        "    *******************"
      ],
      "metadata": {
        "id": "Oh58g8KaZvWt"
      }
    },
    {
      "cell_type": "code",
      "source": [
        "n = int(input())\n",
        "for i in range(1, n + 1):\n",
        "    if i == 1 or i == n:\n",
        "        print('*' * 19)\n",
        "    else:\n",
        "        print('*' + ' ' * 17 + '*')"
      ],
      "metadata": {
        "id": "AQPzm6t2Z6nc"
      },
      "execution_count": null,
      "outputs": []
    },
    {
      "cell_type": "code",
      "source": [
        "n = int(input())\n",
        "\n",
        "for i in range(n):\n",
        "    if i == 0 or i == n - 1:\n",
        "        cur_sep = \"*\"\n",
        "    else:\n",
        "        cur_sep = \" \"\n",
        "\n",
        "    print(\"*\", \"*\", sep=cur_sep * 17)\n"
      ],
      "metadata": {
        "id": "rEyl0RsAaH_-"
      },
      "execution_count": null,
      "outputs": []
    },
    {
      "cell_type": "code",
      "source": [
        "n = int(input())\n",
        "for i in range(1, n + 1):\n",
        "  if i == 1: # по условию первый ряд весь заполнен звездочка\n",
        "    print('*' * 19)\n",
        "  elif i == n: # по условию весь последний ряд заполнен звездочками\n",
        "    print('*' * 19)\n",
        "  else: # середина имеет звездочку в начале и в конце, середина заполнена пробелами, 19 - 2 = 17 пробелов.\n",
        "    print('*', ' ' * 17, '*', sep='')"
      ],
      "metadata": {
        "id": "XKzXzRsTaOF6"
      },
      "execution_count": null,
      "outputs": []
    },
    {
      "cell_type": "code",
      "source": [
        "print('*'*19 + '\\n' + ('*' + ' '*17 + '*\\n')*(int(input())-2) + '*'*19)"
      ],
      "metadata": {
        "id": "vJiTwtKfaQoI"
      },
      "execution_count": null,
      "outputs": []
    },
    {
      "cell_type": "markdown",
      "source": [
        "# **Численный треугольник**"
      ],
      "metadata": {
        "id": "tkVIujt72Hx8"
      }
    },
    {
      "cell_type": "markdown",
      "source": [
        "Дано натуральное число nn. Напишите программу, которая печатает численный треугольник в соответствии с примером:\n",
        "\n",
        "    1\n",
        "    22\n",
        "    333\n",
        "    4444\n",
        "    55555\n",
        "    ...\n",
        "\n",
        "Формат входных данных\n",
        "На вход программе подается одно натуральное число.\n",
        "\n",
        "Формат выходных данных\n",
        "Программа должна вывести треугольник в соответствии с условием.\n",
        "\n",
        "Примечание. Используйте вложенный цикл for."
      ],
      "metadata": {
        "id": "-vf1jsTX2Kj_"
      }
    },
    {
      "cell_type": "code",
      "source": [
        "n = int(input())\n",
        "for i in range(1, n+1):    # строки n\n",
        "    for j in range(i):     # столбцы\n",
        "        print(i, end='')\n",
        "    print()"
      ],
      "metadata": {
        "id": "SMffX8Ff2TJ9"
      },
      "execution_count": null,
      "outputs": []
    },
    {
      "cell_type": "code",
      "source": [
        "for i in range(1, int(input()) + 1):\n",
        "    print(str(i) * i)"
      ],
      "metadata": {
        "id": "07F29pl-2lZg"
      },
      "execution_count": null,
      "outputs": []
    },
    {
      "cell_type": "markdown",
      "source": [
        "# **Численный треугольник 2**"
      ],
      "metadata": {
        "id": "WAuVM1Ef5B1U"
      }
    },
    {
      "cell_type": "markdown",
      "source": [
        "Дано натуральное число nn. Напишите программу, которая печатает численный треугольник с высотой равной nn, в соответствии с примером:\n",
        "\n",
        "    1\n",
        "    2 3\n",
        "    4 5 6\n",
        "    7 8 9 10\n",
        "    11 12 13 14 15\n",
        "    16 17 18 19 20 21\n",
        "    ...\n",
        "\n",
        "Формат входных данных\n",
        "На вход программе подается одно натуральное число.\n",
        "\n",
        "Формат выходных данных\n",
        "Программа должна вывести треугольник в соответствии с условием.\n",
        "\n",
        "Примечание. Используйте вложенный цикл for."
      ],
      "metadata": {
        "id": "6Xfx-_Te5EYS"
      }
    },
    {
      "cell_type": "code",
      "source": [
        "num = int(input())             # Определение высоты массива\n",
        "count = 0                      # Порядковый номер цифры = число в массиве\n",
        "for y in range(1, num + 1):    # Первый цикл высоты массива\n",
        "    for x in range(y):         # Второй цикл длины массива\n",
        "        count += 1             # увеличиваем счетчик\n",
        "        print(count, end=' ')  # Вывод текущего числа и в конце пробел\n",
        "    print()                    # Переход к новой строке"
      ],
      "metadata": {
        "id": "5Vj46bTw5Kdv"
      },
      "execution_count": null,
      "outputs": []
    },
    {
      "cell_type": "markdown",
      "source": [
        "# **Численный треугольник 3**"
      ],
      "metadata": {
        "id": "c0pN9_kq6CSw"
      }
    },
    {
      "cell_type": "markdown",
      "source": [
        "Дано натуральное число nn. Напишите программу, которая печатает численный треугольник с высотой равной nn, в соответствии с примером:\n",
        "\n",
        "    1\n",
        "    121\n",
        "    12321\n",
        "    1234321\n",
        "    123454321\n",
        "    ...\n",
        "\n",
        "Формат входных данных\n",
        "На вход программе подается одно натуральное число.\n",
        "\n",
        "Формат выходных данных\n",
        "Программа должна вывести треугольник в соответствии с условием.\n",
        "\n",
        "Примечание. Используйте вложенный цикл for."
      ],
      "metadata": {
        "id": "aMC5Qeqp6Eu5"
      }
    },
    {
      "cell_type": "code",
      "source": [
        "num = int(input())\n",
        "\n",
        "for i in range(1, num + 1):   # цикл отвечающий за количество рядов\n",
        "    count = 0                 # счетчик для ряда, при каждом новом цикле обнуляется\n",
        "    for j in range(i):        # 1й вложенный\n",
        "        count += 1            # увеличиваем цифру в ряду\n",
        "        print(count, end='')  # вывод на печать без пробелов\n",
        "    for k in range(i, 1, -1): # 2й вложенный\n",
        "        count -= 1            # уменьшаем цифру в ряду\n",
        "        print(count, end='')  # вывод на печать без пробелов\n",
        "    print()                   # переход на новую строку\n"
      ],
      "metadata": {
        "id": "p4CzJx2b6Nn3"
      },
      "execution_count": null,
      "outputs": []
    },
    {
      "cell_type": "code",
      "source": [
        "n = int(input())\n",
        "for i in range(n):\n",
        "    for j in range (-i, i + 1, 1):\n",
        "        x = i + 1 - abs(j)\n",
        "        print(x, end='')\n",
        "    print()"
      ],
      "metadata": {
        "id": "laUOhF2f7QCh"
      },
      "execution_count": null,
      "outputs": []
    },
    {
      "cell_type": "code",
      "source": [
        "for i in range(1, int(input()) + 1):\n",
        "    for j in range(1, i * 2):\n",
        "        print(i - abs(i - j), end='')\n",
        "    print()"
      ],
      "metadata": {
        "id": "Ayy6nNY-7Rib"
      },
      "execution_count": null,
      "outputs": []
    },
    {
      "cell_type": "code",
      "source": [
        "n=int(input())\n",
        "\n",
        "for i in range(1,n+1):\n",
        "    for j in range (-i+1,i):\n",
        "        print(i-abs(j),end='')\n",
        "    print()"
      ],
      "metadata": {
        "id": "aWsL5nS47fGs"
      },
      "execution_count": null,
      "outputs": []
    },
    {
      "cell_type": "code",
      "source": [
        "n = int(input())\n",
        "for i in range(1, n + 1):\n",
        "    print( *range(1, i+1), *range(i-1, 0, -1), sep=\"\")"
      ],
      "metadata": {
        "id": "NyqvIxsE7wJV"
      },
      "execution_count": null,
      "outputs": []
    },
    {
      "cell_type": "markdown",
      "source": [
        "#**Делители-1**"
      ],
      "metadata": {
        "id": "6UqVexf585gk"
      }
    },
    {
      "cell_type": "markdown",
      "source": [
        "На вход программе подаются два натуральных числа a и b (a< b). Напишите программу, которая находит натуральное число из отрезка [a; b] (от a до b включительно) с максимальной суммой делителей. Если чисел с максимальной суммой делителей несколько, то искомым числом является наибольшее из них. Ваша программа должны выводить ответ в следующем формате:\n",
        "\n",
        "<число с максимальной суммой делителей> <сумма делителей этого числа>\n",
        "\n",
        "Формат входных данных\n",
        "На вход программе подаются два числа, каждое на отдельной строке.\n",
        "\n",
        "Формат выходных данных\n",
        "Программа должна вывести два числа на одной строке, разделенных пробелом: число с максимальной суммой делителей и сумму его делителей."
      ],
      "metadata": {
        "id": "xwKnUIPo89wV"
      }
    },
    {
      "cell_type": "code",
      "source": [
        "a , b = int(input()), int(input())\n",
        "total_maximum = 0                    # сумма делителей\n",
        "digit = 0                            # число с максимальной суммой делителей\n",
        "\n",
        "for i in range(a, b + 1):             # цикл перебирающий все числа от a до b включительно\n",
        "    maximum = 0                       # обнуление суммы делителей, для нового цикла\n",
        "    for j in range(1, i + 1):         # проверяем все числа от 1 до числа не превышающего проверяемое\n",
        "        if i % j == 0:                # проверка на деление без остатка\n",
        "            maximum += j              # суммируем делители\n",
        "        if maximum >= total_maximum:  # если сумма делителей больше max суммы делителей\n",
        "            total_maximum = maximum   # записываем в переменную максимальную\n",
        "            digit = j\n",
        "print(digit, total_maximum)           # вывод"
      ],
      "metadata": {
        "id": "473Xlul589QU"
      },
      "execution_count": null,
      "outputs": []
    },
    {
      "cell_type": "code",
      "source": [
        "a, b = int(input()), int(input())\n",
        "\n",
        "mx_num = -1\n",
        "mx_sum = -1\n",
        "for cur_num in range(a, b + 1):\n",
        "    cur_sum = 0\n",
        "    for j in range(1, cur_num + 1):\n",
        "        if cur_num % j == 0:\n",
        "            cur_sum += j\n",
        "\n",
        "    if cur_sum >= mx_sum:\n",
        "        mx_num = cur_num\n",
        "        mx_sum = cur_sum\n",
        "\n",
        "print(mx_num, mx_sum)"
      ],
      "metadata": {
        "id": "i3l8cO0P-Nrq"
      },
      "execution_count": null,
      "outputs": []
    },
    {
      "cell_type": "code",
      "source": [
        "a, b = int(input()), int(input())\n",
        "counter = 0 # счетчик подсчета суммы делителей\n",
        "number = 1 # число которое будем выводить (минимум 1)\n",
        "summa = 0  # тут будет сумма делителей, которую надо будет вывести\n",
        "for i in range(a, b + 1):  # проверяем каждое число в [a;b]\n",
        "    counter = 0 # обнуляем счетчик для каждого i\n",
        "    for j in range(1, i + 1):  # берем по очереди каждый делитель числа от [1 до самого числа]\n",
        "        if i % j == 0:  # если число делится на j без остатка, значит j - делитель числа\n",
        "            counter += j  # создаем сумму делителей\n",
        "    if counter >= summa:  # если сумма делителей больше или равна, чем суммаа делителей предыдущего числа\n",
        "        summa = counter  # то counter теперь равно кол-ву делителей этого числа вместо кол-ва предыдущего\n",
        "        number = i  # число у которого делителей оказалось больше, теперь равно number\n",
        "print(number, summa) # в конце концов, выводим само число (у которого больше делителей) и сумму этих делителей"
      ],
      "metadata": {
        "id": "Gfg7pq5f-TMS"
      },
      "execution_count": null,
      "outputs": []
    },
    {
      "cell_type": "markdown",
      "source": [
        "Алгоритм работающий за время O(nкорень изn), за счёт поиска делителей до числа nn\n",
        "​. Обратите внимание на второй аргумент функции sum, задающий начальное значение суммы делителей. В случае когда число является точным квадратом - сумму делителей заранее уменьшается на величину nn\n",
        "\n",
        "​, что связано с тем что на каждой итерации к сумме добавляются сразу 2 делителя i и n//i, а для точного квадрата его корень будет подсчитан дважды в качестве делителя! Так же обратите внимание на нестрогое неравенство dsum >=msum. Это необходимо для выполнения условия:\n",
        "\n",
        "    Если таких чисел несколько, то выведите наибольшее из них.\n",
        "\n",
        "Сравнивать сами числа в случае равенства нет необходимости, потому что текущее число всегда больше предидущих."
      ],
      "metadata": {
        "id": "Zqwod83B-q9K"
      }
    },
    {
      "cell_type": "code",
      "source": [
        "a, b, mnum, msum = int(input()), int(input()), 0, 0\n",
        "for num in range(a, b+1):\n",
        "    sqrt = int(num**0.5)\n",
        "    dsum = sum((i+num//i for i in range(1, sqrt+1) if num%i == 0), -sqrt if sqrt**2==num else 0)\n",
        "    if dsum >= msum:\n",
        "        mnum, msum = num, dsum\n",
        "print(mnum, msum)"
      ],
      "metadata": {
        "id": "IjGTVcRm-zLy"
      },
      "execution_count": null,
      "outputs": []
    },
    {
      "cell_type": "code",
      "source": [
        "a, b = int(input()), int(input())\n",
        "max_number = max_total = 0\n",
        "for i in range(a, b + 1):\n",
        "    curr_total = i  # число всегда делится само на себя\n",
        "    for j in range(1, int(i / 2) + 1):  # выше середины числа делителей не будет\n",
        "        if i % j == 0:\n",
        "            curr_total += j\n",
        "    if max_total <= curr_total:  # если сумма делителей такая же, но само число больше\n",
        "        max_total = curr_total\n",
        "        max_number = i  # предпосылка не нужна, т.к. i всегда > max_number\n",
        "print(max_number, max_total)"
      ],
      "metadata": {
        "id": "f6pEqj56_GW_"
      },
      "execution_count": null,
      "outputs": []
    },
    {
      "cell_type": "markdown",
      "source": [
        "#**Делители-2**"
      ],
      "metadata": {
        "id": "VCvugkd2_sDA"
      }
    },
    {
      "cell_type": "markdown",
      "source": [
        "На вход программе подается натуральное число nn. Напишите программу, выводящую графическое изображение делимости чисел от 1 до n включительно. В каждой строке надо напечатать очередное число и столько символов «+», сколько делителей у этого числа.\n",
        "\n",
        "Формат входных данных\n",
        "На вход программе подается одно натуральное число.\n",
        "\n",
        "Формат выходных данных\n",
        "Программа должна вывести графическое изображение чисел от 1 до n, каждое на отдельной строке."
      ],
      "metadata": {
        "id": "pJ10R6sW_vGI"
      }
    },
    {
      "cell_type": "code",
      "source": [
        "n = int(input())\n",
        "\n",
        "for i in range(1, n+1):        # циклом перебираем все числа от 1 до n включительно\n",
        "    print(i, end = '')         # вывод текущего числа\n",
        "    for j in range(1, i+1):    # цикл поиска делителя\n",
        "        if i % j == 0:         # если число делится без остатка\n",
        "            print('+', end='') # то печатаем + без пробела\n",
        "    print()                    # переход на новую строку"
      ],
      "metadata": {
        "id": "kafc3iXy_2Yz"
      },
      "execution_count": null,
      "outputs": []
    },
    {
      "cell_type": "code",
      "source": [
        "for i in range(1, int(input()) + 1):\n",
        "    print(i, '+' * len([1 for j in range(1, i + 1) if i % j == 0]), sep='')"
      ],
      "metadata": {
        "id": "_KFTYRqtAK7b"
      },
      "execution_count": null,
      "outputs": []
    },
    {
      "cell_type": "code",
      "source": [
        "for i in range(1, int(input()) + 1):\n",
        "    print(str(i) + '+' * sum(1 for n in range(1, i + 1) if i % n == 0))\n",
        "\n"
      ],
      "metadata": {
        "id": "Z6P1hNv4AWyg"
      },
      "execution_count": null,
      "outputs": []
    },
    {
      "cell_type": "markdown",
      "source": [
        "# **Цифровой корень**"
      ],
      "metadata": {
        "id": "7BORSuZXAhIG"
      }
    },
    {
      "cell_type": "markdown",
      "source": [
        "На вход программе подается натуральное число n. Напишите программу, которая находит цифровой корень данного числа. Цифровой корень числа n получается следующим образом: если сложить все цифры этого числа, затем все цифры найденной суммы и повторять этот процесс до тех пор, пока в результате не будет получено однозначное число (цифра), которое и называется цифровым корнем первоначального числа n.\n",
        "\n",
        "Формат входных данных\n",
        "На вход программе подается одно натуральное число.\n",
        "\n",
        "Формат выходных данных\n",
        "Программа должна вывести цифровой корень введенного числа.\n",
        "\n",
        "Примечание. Используйте вложенные циклы while."
      ],
      "metadata": {
        "id": "HYedhS0WAjTj"
      }
    },
    {
      "cell_type": "code",
      "source": [
        "n=int(input())      # ввод числа\n",
        "\n",
        "while n>9:          # до тех пор, пока в числе n не останется одна цифраа\n",
        "    s = 0\n",
        "    while (n > 0):\n",
        "        last_digit = n % 10  # получить последнюю цифру\n",
        "        s += last_digit      # к числу прибавляем последнюю цифру\n",
        "        n = n // 10          # удалить последнюю цифру из числа\n",
        "    n = s\n",
        "\n",
        "print(n)"
      ],
      "metadata": {
        "id": "F3iSIfNCAy2a"
      },
      "execution_count": null,
      "outputs": []
    },
    {
      "cell_type": "code",
      "source": [
        "n = int(input())\n",
        "while n // 10 > 0:\n",
        "    n = n // 10 + n % 10\n",
        "print(n)"
      ],
      "metadata": {
        "id": "OreTdo9BC9-2"
      },
      "execution_count": null,
      "outputs": []
    },
    {
      "cell_type": "code",
      "source": [
        "print((int(input()) - 1) % 9 + 1)"
      ],
      "metadata": {
        "id": "gGpfq6NtDPq0"
      },
      "execution_count": null,
      "outputs": []
    },
    {
      "cell_type": "markdown",
      "source": [
        "У цифрового корня есть свойство: если из суммы всех цифр вычитать 9 до тех пор, пока не получится одна цифра, она и будет корнем."
      ],
      "metadata": {
        "id": "_2q0zAcLD2Ng"
      }
    },
    {
      "cell_type": "code",
      "source": [
        "n = int(input())\n",
        "s =0\n",
        "while n > 0:\n",
        "  s += n%10\n",
        "  if s > 9:\n",
        "    s -=9\n",
        "  n //= 10\n",
        "print(s)"
      ],
      "metadata": {
        "id": "21VNchceD42U"
      },
      "execution_count": null,
      "outputs": []
    },
    {
      "cell_type": "markdown",
      "source": [
        "Цифровой корень это число по модулю 9 или же в случае, если число делится на 9 нацело, то цифровой корень это 9"
      ],
      "metadata": {
        "id": "Y_8YA9T0EDFK"
      }
    },
    {
      "cell_type": "code",
      "source": [
        "n = int(input())\n",
        "if n % 9 != 0:\n",
        "    print(n % 9)\n",
        "else:\n",
        "    print(9)"
      ],
      "metadata": {
        "id": "MUfh0lbIEF-R"
      },
      "execution_count": null,
      "outputs": []
    },
    {
      "cell_type": "code",
      "source": [
        "print(int(input()) % 9 or 9)"
      ],
      "metadata": {
        "id": "WRV6RoacENLf"
      },
      "execution_count": null,
      "outputs": []
    },
    {
      "cell_type": "code",
      "source": [
        "m = input()\n",
        "while len(m) != 1:\n",
        "    m = str(sum([int(i) for i in m]))\n",
        "print(m)"
      ],
      "metadata": {
        "id": "Hg5C_qB0ETj2"
      },
      "execution_count": null,
      "outputs": []
    },
    {
      "cell_type": "markdown",
      "source": [
        "# **Сумма факториалов**"
      ],
      "metadata": {
        "id": "_yqd7WXaEdxM"
      }
    },
    {
      "cell_type": "markdown",
      "source": [
        "Дано натуральное число n. Напишите программу, которая выводит значение суммы:\n",
        "\n",
        "1!+2!+3!+…+n!"
      ],
      "metadata": {
        "id": "vDW2BK0QEf_t"
      }
    },
    {
      "cell_type": "code",
      "source": [
        "num = int(input())           # кол-во факториалов\n",
        "total = 0                    # сумма факториалов\n",
        "factorial = 1                # вычисляемый факториал\n",
        "\n",
        "for i in range(1, num+1):    # перебираем факториалы\n",
        "    for j in range(1, i+1):  # вычисляем каждый факториал\n",
        "        factorial *= j       # вычисляем факториал\n",
        "    total += factorial       # Суммируем факториалы чисел.\n",
        "    factorial = 1            # \"обнуляем факториал\"\n",
        "print(total)"
      ],
      "metadata": {
        "id": "UeWl4_opEm63"
      },
      "execution_count": null,
      "outputs": []
    },
    {
      "cell_type": "code",
      "source": [
        "def factorial(num):\n",
        "    if num == 0:\n",
        "        return 1\n",
        "    return num * factorial(num - 1)\n",
        "\n",
        "n = int(input(\"Введите натуральное число n: \"))\n",
        "\n",
        "sum_factorials = sum([factorial(i) for i in range(1, n+1)])\n",
        "\n",
        "print(f\"Значение суммы факториалов от 1! до {n}! равно: {sum_factorials}\")"
      ],
      "metadata": {
        "id": "cVJpXI2bE1sR"
      },
      "execution_count": null,
      "outputs": []
    },
    {
      "cell_type": "code",
      "source": [
        "n = int(input())\n",
        "res = 0\n",
        "\n",
        "for i in range(1, n + 1):\n",
        "    cur_fact = 1\n",
        "    for j in range(1, i + 1):\n",
        "        cur_fact *= j\n",
        "\n",
        "    res += cur_fact\n",
        "\n",
        "print(res)"
      ],
      "metadata": {
        "id": "IubZglfTFkVK"
      },
      "execution_count": null,
      "outputs": []
    },
    {
      "cell_type": "code",
      "source": [
        "from math import factorial\n",
        "n = int(input())\n",
        "total = 0\n",
        "for i in range(1,n + 1):\n",
        "  total += factorial(i)\n",
        "print(total)"
      ],
      "metadata": {
        "id": "UQJRRKrvFyub"
      },
      "execution_count": null,
      "outputs": []
    },
    {
      "cell_type": "code",
      "source": [
        "from math import factorial as f\n",
        "print(sum([f(i) for i in range(1, int(input())+1)]))"
      ],
      "metadata": {
        "id": "cJgnPtsIF3Y9"
      },
      "execution_count": null,
      "outputs": []
    },
    {
      "cell_type": "markdown",
      "source": [
        "# **Простые числа**"
      ],
      "metadata": {
        "id": "i7_vtduzGcLI"
      }
    },
    {
      "cell_type": "markdown",
      "source": [
        "На вход программе подается два натуральных числа a и b (a< b). Напишите программу, которая находит все простые числа от a до b включительно.\n",
        "\n",
        "Простое число – это натуральное число, единственными делителями которого являются только оно само и 1.\n",
        "\n",
        "\n",
        "Число 1 простым не является."
      ],
      "metadata": {
        "id": "E9Y86xoyGecL"
      }
    },
    {
      "cell_type": "code",
      "source": [
        "a, b, = int(input()), int(input())\n",
        "for i in range(a, b + 1):\n",
        "    if i == 1:                # 1 не является простым числом\n",
        "        continue              # пропускаем цикл\n",
        "    for j in range(2, i):     # перебираем делители от 2 до i\n",
        "        if i % j == 0:        # если делится без остатка, то оно не простое\n",
        "            break             # завершаем вложенный цикл\n",
        "    else:\n",
        "        print(i)"
      ],
      "metadata": {
        "id": "F-lR_IfrGtoR"
      },
      "execution_count": null,
      "outputs": []
    },
    {
      "cell_type": "code",
      "source": [
        "\"\"\"Простое число делится только на 1 и само на себя. Решаем через счетчик\n",
        "делителей, или можно модифицировать код из 7.9.3. Для оптимизации кода я\n",
        "использую тот факт, что все делители кроме самого числа находятся в первой\n",
        "половине этого числа. И в этом случае у него может быть только один делитель\n",
        "(равный 1). Также, т.к. 1 не является простым числом, то есть 2 выхода:\n",
        "1. Просто меняем его на 2, и учитываем это перед внешним циклом (на общий\n",
        "результат это не повлияет),\n",
        "2. Или пропускаем этот вариант во внешнем цикле (через continue). Данный\n",
        "вариант предпочтительнее.\n",
        "\"\"\"\n",
        "\n",
        "a, b = int(input()), int(input())\n",
        "for i in range(a, b + 1):\n",
        "    if i == 1:\n",
        "        continue                        # Учитываем, что 1 не является простым числом\n",
        "    count = 0                           # Задаем счетчик делителей. Тут же он обнуляется перед итерацией\n",
        "    for j in range(1, int(i / 2) + 1):  # Все делители числа i находятся в этом диапазоне (кроме него самого)\n",
        "        if i % j == 0:                  # Условие делителя\n",
        "            count += 1\n",
        "    if count == 1:                      # Условие для простого числа с учетом диапазона по j\n",
        "        print(i)"
      ],
      "metadata": {
        "id": "179ge2VVJIHj"
      },
      "execution_count": null,
      "outputs": []
    },
    {
      "cell_type": "code",
      "source": [
        "from sympy import isprime\n",
        "\n",
        "num_1, num_2 = int(input()), int(input())\n",
        "\n",
        "for i in range(num_1, num_2 + 1):\n",
        "    if isprime(i):\n",
        "        print(i)"
      ],
      "metadata": {
        "id": "korWWZvZJWak"
      },
      "execution_count": null,
      "outputs": []
    },
    {
      "cell_type": "markdown",
      "source": [
        "# **В столбик . Индексация строк**"
      ],
      "metadata": {
        "id": "yG-pmvxQeNuE"
      }
    },
    {
      "cell_type": "markdown",
      "source": [
        "Задача 1.\n",
        "\n",
        "На вход программе подается одна строка. Напишите программу, которая выводит элементы строки с индексами 0, 2, 4, ... в столбик."
      ],
      "metadata": {
        "id": "ESzcCCfKeSdA"
      }
    },
    {
      "cell_type": "code",
      "source": [
        "s = input()\n",
        "for c in range(0, len(s), 2):\n",
        "    print(s[c])"
      ],
      "metadata": {
        "id": "V6-FpeJEeZi7"
      },
      "execution_count": null,
      "outputs": []
    },
    {
      "cell_type": "code",
      "source": [
        "a = input()\n",
        "\n",
        "for i in a[::2]:\n",
        "    print(i)"
      ],
      "metadata": {
        "id": "7ZFqkZt8epQh"
      },
      "execution_count": null,
      "outputs": []
    },
    {
      "cell_type": "code",
      "source": [
        "print('\\n'.join(input()[::2]))"
      ],
      "metadata": {
        "id": "B5OWkBFxevdg"
      },
      "execution_count": null,
      "outputs": []
    },
    {
      "cell_type": "code",
      "source": [
        "print(*[j for i, j in enumerate(input()) if i % 2 == 0], sep='\\n')"
      ],
      "metadata": {
        "id": "VkjDOE7Ze9wT"
      },
      "execution_count": null,
      "outputs": []
    },
    {
      "cell_type": "markdown",
      "source": [
        "Задача 2.\n",
        "\n",
        "На вход программе подается одна строка. Напишите программу, которая выводит в столбик элементы строки в обратном порядке."
      ],
      "metadata": {
        "id": "zWYw9U4jfJbh"
      }
    },
    {
      "cell_type": "code",
      "source": [
        "s=input()\n",
        "for i in range(1,len(s)+1):\n",
        "    print(s[-i])"
      ],
      "metadata": {
        "id": "iucV5bTsfN7l"
      },
      "execution_count": null,
      "outputs": []
    },
    {
      "cell_type": "code",
      "source": [
        "s = input()\n",
        "\n",
        "for i in reversed(s):\n",
        "    print(i)"
      ],
      "metadata": {
        "id": "-m87uFg-ff-q"
      },
      "execution_count": null,
      "outputs": []
    },
    {
      "cell_type": "code",
      "source": [
        "[print(i) for i in input()[::-1]]"
      ],
      "metadata": {
        "id": "1FQLKiZHfizQ"
      },
      "execution_count": null,
      "outputs": []
    },
    {
      "cell_type": "code",
      "source": [
        "print('\\n'.join(input()[::-1]))"
      ],
      "metadata": {
        "id": "XRoWSz0pfnUL"
      },
      "execution_count": null,
      "outputs": []
    },
    {
      "cell_type": "markdown",
      "source": [
        "# **Одинаковые соседи**"
      ],
      "metadata": {
        "id": "lFJgNViihIVD"
      }
    },
    {
      "cell_type": "markdown",
      "source": [
        "На вход программе подается одна строка. Напишите программу, которая определяет сколько в ней одинаковых соседних символов."
      ],
      "metadata": {
        "id": "eAcFhDKghKci"
      }
    },
    {
      "cell_type": "code",
      "source": [
        "a = input()\n",
        "count = 0                    # переменная для счетчика\n",
        "for i in range(len(a) -1):   # проходим for по len(строки) - 1\n",
        "    if a[i] == a[i + 1]:     # сравниваем строки[i] с строки[i + 1]\n",
        "        count += 1           # если символы одинаковые к счетчику +1\n",
        "\n",
        "print(count)"
      ],
      "metadata": {
        "id": "X8JmCkfxhMOg"
      },
      "execution_count": null,
      "outputs": []
    },
    {
      "cell_type": "code",
      "source": [
        "s, count = input(), 0\n",
        "for i in range(1, len(s)):\n",
        "    count += s[i] == s[i-1]\n",
        "print(count)"
      ],
      "metadata": {
        "id": "A46XUOThhcL7"
      },
      "execution_count": null,
      "outputs": []
    },
    {
      "cell_type": "code",
      "source": [
        "s = input()\n",
        "print(sum(s[i]==s[i-1] for i in range(1, len(s))))"
      ],
      "metadata": {
        "id": "2in7tA69hknn"
      },
      "execution_count": null,
      "outputs": []
    },
    {
      "cell_type": "markdown",
      "source": [
        "# **Гласные и согласные**"
      ],
      "metadata": {
        "id": "m1SUCWQdmGzt"
      }
    },
    {
      "cell_type": "markdown",
      "source": [
        "На вход программе подается одна строка с буквами русского языка. Напишите программу, которая определяет количество гласных и согласных звуков.\n",
        "\n",
        "Формат входных данных\n",
        "На вход программе подается одна строка.\n",
        "\n",
        "Формат выходных данных\n",
        "Программа должна вывести количество гласных и согласных звуков.\n",
        "\n",
        "Примечание. В русском языке 99 букв, передающих гласные звуки, и 2121 буква, передающая согласные звуки (букву ё игнорируем):\n",
        "\n",
        "    ауоыиэяюе\n",
        "    бвгджзйклмнпрстфхцчшщ"
      ],
      "metadata": {
        "id": "wJX5ynM2mHNC"
      }
    },
    {
      "cell_type": "code",
      "source": [
        "string = input().lower()\n",
        "vowels = 0\n",
        "consonants = 0\n",
        "\n",
        "for i in string:\n",
        "    if i in 'ауоыиэяюе':\n",
        "        vowels += 1\n",
        "    elif i in 'бвгджзйклмнпрстфхцчшщ':\n",
        "        consonants += 1\n",
        "print(f'Количество гласных букв равно {vowels}')\n",
        "print(f'Количество согласных букв равно {consonants}')"
      ],
      "metadata": {
        "id": "EQDFO33mmHl9"
      },
      "execution_count": null,
      "outputs": []
    },
    {
      "cell_type": "code",
      "source": [
        "import re\n",
        "line = input()\n",
        "print(f\"Количество гласных букв равно {len(re.findall(r'[ауоыиэяюёе]', line, re.I))}\",\n",
        "      f\"Количество согласных букв равно {len(re.findall(r'[бвгджзйклмнпрстфхцчшщ]', line, re.I))}\",\n",
        "      sep='\\n'\n",
        "     )"
      ],
      "metadata": {
        "id": "mFTJHsw-mIG7"
      },
      "execution_count": null,
      "outputs": []
    },
    {
      "cell_type": "markdown",
      "source": [
        "# **Decimal to Binary**"
      ],
      "metadata": {
        "id": "xQeu8pJip67-"
      }
    },
    {
      "cell_type": "markdown",
      "source": [
        "На вход программе подается натуральное число, записанное в десятичной системе счисления. Напишите программу, которая переводит данное число в двоичную систему счисления."
      ],
      "metadata": {
        "id": "Hn1fr2Utp94m"
      }
    },
    {
      "cell_type": "code",
      "source": [
        "num = int(input())\n",
        "\n",
        "print(bin(num)[2:])"
      ],
      "metadata": {
        "id": "Y_bpm33Fp9KJ"
      },
      "execution_count": null,
      "outputs": []
    },
    {
      "cell_type": "code",
      "source": [
        "def decimal_to_binary(decimal_num):\n",
        "    return bin(decimal_num)[2:]\n",
        "\n",
        "decimal_num = int(input(\"Введите натуральное число в десятичной системе: \"))\n",
        "binary_num = decimal_to_binary(decimal_num)\n",
        "\n",
        "print(f\"Число {decimal_num} в двоичной системе счисления: {binary_num}\")"
      ],
      "metadata": {
        "id": "N22NLX5fqIMN"
      },
      "execution_count": null,
      "outputs": []
    }
  ]
}